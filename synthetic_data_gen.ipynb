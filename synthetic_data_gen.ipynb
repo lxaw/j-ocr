{
 "cells": [
  {
   "cell_type": "code",
   "execution_count": 6,
   "metadata": {},
   "outputs": [],
   "source": [
    "# while mangaocr used a large text base to generate synthetic images\n",
    "# since meaning is not important here, we can just use a database of all the kanji characters recognized on computers"
   ]
  },
  {
   "cell_type": "code",
   "execution_count": 1,
   "metadata": {},
   "outputs": [],
   "source": [
    "import pandas as pd"
   ]
  },
  {
   "cell_type": "code",
   "execution_count": 5,
   "metadata": {},
   "outputs": [
    {
     "data": {
      "text/html": [
       "<div>\n",
       "<style scoped>\n",
       "    .dataframe tbody tr th:only-of-type {\n",
       "        vertical-align: middle;\n",
       "    }\n",
       "\n",
       "    .dataframe tbody tr th {\n",
       "        vertical-align: top;\n",
       "    }\n",
       "\n",
       "    .dataframe thead th {\n",
       "        text-align: right;\n",
       "    }\n",
       "</style>\n",
       "<table border=\"1\" class=\"dataframe\">\n",
       "  <thead>\n",
       "    <tr style=\"text-align: right;\">\n",
       "      <th></th>\n",
       "      <th>text</th>\n",
       "    </tr>\n",
       "  </thead>\n",
       "  <tbody>\n",
       "    <tr>\n",
       "      <th>0</th>\n",
       "      <td>午後から雨が心配だったので遠出はせず、『ふれあいロード』を走って来ました！</td>\n",
       "    </tr>\n",
       "    <tr>\n",
       "      <th>1</th>\n",
       "      <td>確実に春が近づいてることを肌で感じることが出来ました 着々と整備されてる圏央道を越えるとお世...</td>\n",
       "    </tr>\n",
       "    <tr>\n",
       "      <th>2</th>\n",
       "      <td>うぅ〜〜、私が途中でトイレに行きたくなってしまい、通り道にあったケンタに変更しちゃいました。</td>\n",
       "    </tr>\n",
       "    <tr>\n",
       "      <th>3</th>\n",
       "      <td>実は、１年程前にエルモサの右目の黒目の端によ〜く見ないと分からない程の小さな斑を見つけてたんです。</td>\n",
       "    </tr>\n",
       "    <tr>\n",
       "      <th>4</th>\n",
       "      <td>その時点で先生からはおそらく『角膜ジストロフィー』であろうとの診断をもらっていました。</td>\n",
       "    </tr>\n",
       "  </tbody>\n",
       "</table>\n",
       "</div>"
      ],
      "text/plain": [
       "                                                text\n",
       "0              午後から雨が心配だったので遠出はせず、『ふれあいロード』を走って来ました！\n",
       "1  確実に春が近づいてることを肌で感じることが出来ました 着々と整備されてる圏央道を越えるとお世...\n",
       "2     うぅ〜〜、私が途中でトイレに行きたくなってしまい、通り道にあったケンタに変更しちゃいました。\n",
       "3  実は、１年程前にエルモサの右目の黒目の端によ〜く見ないと分からない程の小さな斑を見つけてたんです。\n",
       "4        その時点で先生からはおそらく『角膜ジストロフィー』であろうとの診断をもらっていました。"
      ]
     },
     "execution_count": 5,
     "metadata": {},
     "output_type": "execute_result"
    }
   ],
   "source": [
    "text_file_path = \"text/output_chunk_1.txt\"\n",
    "\n",
    "# Initialize an empty list to store non-empty lines\n",
    "lines = []\n",
    "\n",
    "# Read the text file line by line and filter out empty lines\n",
    "with open(text_file_path, 'r') as file:\n",
    "    for line_number, line in enumerate(file, 1):\n",
    "        stripped = line.strip()\n",
    "        if stripped:  # Check if the line is not empty after stripping whitespace\n",
    "            lines.append(stripped)\n",
    "\n",
    "# Create a DataFrame from the non-empty lines\n",
    "try:\n",
    "    df = pd.DataFrame({'text': lines})\n",
    "except pd.errors.ParserError as e:\n",
    "    print(f\"ParserError: {e}\")\n",
    "    print(f\"Problematic line (line number {e.line + 1}): {lines[e.line]}\")\n",
    "    # Handle the issue, e.g., by manually fixing the problematic line\n",
    "\n",
    "# Save the DataFrame to a CSV file\n",
    "csv_output_path = \"sentences.csv\"\n",
    "df.to_csv(csv_output_path, index=False)\n",
    "\n",
    "# Display the DataFrame\n",
    "df.head(5)"
   ]
  },
  {
   "cell_type": "code",
   "execution_count": null,
   "metadata": {},
   "outputs": [],
   "source": []
  }
 ],
 "metadata": {
  "kernelspec": {
   "display_name": "jpdf-to-txt-yl2GM28u",
   "language": "python",
   "name": "python3"
  },
  "language_info": {
   "codemirror_mode": {
    "name": "ipython",
    "version": 3
   },
   "file_extension": ".py",
   "mimetype": "text/x-python",
   "name": "python",
   "nbconvert_exporter": "python",
   "pygments_lexer": "ipython3",
   "version": "3.12.0"
  }
 },
 "nbformat": 4,
 "nbformat_minor": 2
}
