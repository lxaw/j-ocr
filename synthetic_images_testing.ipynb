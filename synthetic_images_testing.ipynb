{
 "cells": [
  {
   "cell_type": "code",
   "execution_count": 19,
   "metadata": {},
   "outputs": [],
   "source": [
    "import pandas as pd"
   ]
  },
  {
   "cell_type": "code",
   "execution_count": 20,
   "metadata": {},
   "outputs": [],
   "source": [
    "df = pd.read_csv('sentences.csv')"
   ]
  },
  {
   "cell_type": "code",
   "execution_count": 21,
   "metadata": {},
   "outputs": [],
   "source": [
    "from PIL import Image,ImageDraw, ImageFont"
   ]
  },
  {
   "cell_type": "code",
   "execution_count": 52,
   "metadata": {},
   "outputs": [],
   "source": [
    "test_txt = \"午後から雨\""
   ]
  },
  {
   "cell_type": "code",
   "execution_count": 53,
   "metadata": {},
   "outputs": [],
   "source": [
    "# check if has glyph or not\n",
    "# see https://stackoverflow.com/questions/47948821/python-imagefont-and-imagedraw-check-font-for-character-support\n",
    "from fontTools.ttLib import TTFont\n",
    "from fontTools.unicode import Unicode\n",
    "\n",
    "# font = TTFont('/path/to/font.ttf')\n",
    "\n",
    "def has_glyph(font, glyph):\n",
    "    for table in font['cmap'].tables:\n",
    "        if ord(glyph) in table.cmap.keys():\n",
    "            return True\n",
    "    return False\n"
   ]
  },
  {
   "cell_type": "code",
   "execution_count": 54,
   "metadata": {},
   "outputs": [
    {
     "name": "stderr",
     "output_type": "stream",
     "text": [
      "Error: no \"view\" rule for type \"image/png\" passed its test case\n",
      "       (for more information, add \"--debug=1\" on the command line)\n"
     ]
    }
   ],
   "source": [
    "from PIL import Image, ImageDraw, ImageFont\n",
    "\n",
    "# Specify the font and size\n",
    "font_path = \"fonts/NotoSerifJP/NotoSerifJP-Black.otf\"  # Replace with the path to your TTF font file\n",
    "ttfont = TTFont(font_path)\n",
    "font_size = 16\n",
    "font = ImageFont.truetype(font_path, font_size)\n",
    "\n",
    "furigana_font = 8\n",
    "furigana_font = ImageFont.truetype(font_path,furigana_font)\n",
    "\n",
    "\n",
    "\n",
    "# Specify the text and position\n",
    "text = test_txt\n",
    "for c in text:\n",
    "    if not has_glyph(ttfont,c):\n",
    "        text = [i for i in text if i != c]\n",
    "text_position = (10, 10)\n",
    "\n",
    "\n",
    "# Draw the text on the image vertically\n",
    "PADDING = 2\n",
    "# get size of box\n",
    "char_height = font.getbbox(text[0])[3] - font.getbbox(text[0])[1]\n",
    "char_width = font.getbbox(text[0])[2]\n",
    "char_size = PADDING\n",
    "if char_width > char_height:\n",
    "    char_size += char_width\n",
    "else:\n",
    "    char_size += char_height\n",
    "\n",
    "# Calculate the total height of the vertical text\n",
    "total_height = sum(char_size for char in text)\n",
    "\n",
    "# Create a new image with a white background\n",
    "image = Image.new(\"RGB\", (50,total_height + font_size), \"white\")\n",
    "\n",
    "# Create a draw object\n",
    "draw = ImageDraw.Draw(image)\n",
    "\n",
    "furigana_txt = 'ふり'\n",
    "for char in text:\n",
    "    draw.text(text_position, char, font=font, fill=\"black\")\n",
    "    # random furigana\n",
    "    furigana_position = text_position\n",
    "    furigana_x,furigana_y = text_position\n",
    "    furigana_x+=char_size\n",
    "    for furigana_char in furigana_txt:\n",
    "        draw.text((furigana_x,furigana_y),furigana_char,font=furigana_font,fill='black')\n",
    "        furigana_y += char_size/2\n",
    "    text_position = (text_position[0], text_position[1] + char_size)  # Move down for each character\n",
    "\n",
    "# Save or display the image\n",
    "image.save(\"test_imgs/test.jpg\")\n",
    "image.show()\n"
   ]
  },
  {
   "cell_type": "code",
   "execution_count": 55,
   "metadata": {},
   "outputs": [],
   "source": [
    "def create_img_from_sentence(sentence,font,background_color,out_file_name):\n",
    "    text_position = (10, 10)\n",
    "    # Draw the text on the image vertically\n",
    "    PADDING = 2\n",
    "    # get size of box\n",
    "    char_height = font.getbbox(sentence[0])[3] - font.getbbox(sentence[0])[1]\n",
    "    char_width = font.getbbox(sentence[0])[2]\n",
    "    char_size = PADDING\n",
    "    if char_width > char_height:\n",
    "        char_size += char_width\n",
    "    else:\n",
    "        char_size += char_height\n",
    "\n",
    "    # Calculate the total height of the vertical text\n",
    "    total_height = sum(char_size for char in sentence)\n",
    "\n",
    "    # Create a new image with a white background\n",
    "    image = Image.new(\"RGB\", (50,total_height + font_size), background_color)\n",
    "\n",
    "    # Create a draw object\n",
    "    draw = ImageDraw.Draw(image)\n",
    "\n",
    "    for char in sentence:\n",
    "        draw.text(text_position, char, font=font, fill=\"black\")\n",
    "        text_position = (text_position[0], text_position[1] + char_size)  # Move down for each character\n",
    "\n",
    "    # Save or display the image\n",
    "    image.save(out_file_name)\n"
   ]
  },
  {
   "cell_type": "code",
   "execution_count": null,
   "metadata": {},
   "outputs": [],
   "source": []
  },
  {
   "cell_type": "code",
   "execution_count": 57,
   "metadata": {},
   "outputs": [],
   "source": [
    "create_img_from_sentence('午後から雨',font,(255,255,25),'test_imgs/test1.jpg')"
   ]
  },
  {
   "cell_type": "code",
   "execution_count": 58,
   "metadata": {},
   "outputs": [
    {
     "name": "stdout",
     "output_type": "stream",
     "text": [
      "Random Hue: 0.9093388352827444\n",
      "RGB Tuple: (255, 0, 138)\n"
     ]
    }
   ],
   "source": [
    "import colorsys\n",
    "import random\n",
    "\n",
    "# Generate a random hue value between 60.0/360.0 (off-yellow) and 1.0 (pure white)\n",
    "random_hue = random.uniform(60.0 / 360.0, 1.0)\n",
    "\n",
    "# Convert the hue value to an RGB tuple\n",
    "rgb_tuple = colorsys.hsv_to_rgb(random_hue, 1.0, 1.0)\n",
    "\n",
    "# Convert RGB values from the range [0.0, 1.0] to [0, 255]\n",
    "rgb_tuple = tuple(int(val * 255) for val in rgb_tuple)\n",
    "\n",
    "print(\"Random Hue:\", random_hue)\n",
    "print(\"RGB Tuple:\", rgb_tuple)\n"
   ]
  },
  {
   "cell_type": "code",
   "execution_count": 33,
   "metadata": {},
   "outputs": [
    {
     "name": "stdout",
     "output_type": "stream",
     "text": [
      "Generated Blur Radius: 0.24415398451044135\n"
     ]
    },
    {
     "name": "stderr",
     "output_type": "stream",
     "text": [
      "Error: no \"view\" rule for type \"image/png\" passed its test case\n",
      "       (for more information, add \"--debug=1\" on the command line)\n"
     ]
    }
   ],
   "source": [
    "from PIL import Image, ImageFilter\n",
    "import random\n",
    "\n",
    "# Open an image file\n",
    "image_path = \"test_imgs/test.jpg\"  # Replace with the path to your image file\n",
    "image = Image.open(image_path)\n",
    "\n",
    "# Generate a blur_radius value from a normal distribution between 0 and 1\n",
    "mean_radius = 0.5\n",
    "std_dev_radius = 0.2  # You can adjust this value based on the desired spread of the distribution\n",
    "blur_radius = max(0, min(1, random.gauss(mean_radius, std_dev_radius)))\n",
    "\n",
    "# Apply a Gaussian blur filter with the generated radius\n",
    "blurred_image = image.filter(ImageFilter.GaussianBlur(radius=blur_radius))\n",
    "\n",
    "# Save or display the blurred image\n",
    "blurred_image.save(\"test_imgs/blurred_image.jpg\")\n",
    "blurred_image.show()\n",
    "\n",
    "print(\"Generated Blur Radius:\", blur_radius)\n"
   ]
  },
  {
   "cell_type": "code",
   "execution_count": 34,
   "metadata": {},
   "outputs": [],
   "source": [
    "def generate_img_with_random_furi(sentence,file_name):\n",
    "    # Specify the font and size\n",
    "    font_path = \"fonts/NotoSerifJP/NotoSerifJP-Black.otf\"  # Replace with the path to your TTF font file\n",
    "    font_size = 16\n",
    "    font = ImageFont.truetype(font_path, font_size)\n",
    "\n",
    "    furigana_font = 8\n",
    "    furigana_font = ImageFont.truetype(font_path,furigana_font)\n",
    "\n",
    "    # Specify the text and position\n",
    "    text = test_txt\n",
    "    text_position = (10, 10)\n",
    "\n",
    "\n",
    "    # Draw the text on the image vertically\n",
    "    PADDING = 2\n",
    "    # get size of box\n",
    "    char_height = font.getbbox(text[0])[3] - font.getbbox(text[0])[1]\n",
    "    char_width = font.getbbox(text[0])[2]\n",
    "    char_size = PADDING\n",
    "    if char_width > char_height:\n",
    "        char_size += char_width\n",
    "    else:\n",
    "        char_size += char_height\n",
    "\n",
    "    # Calculate the total height of the vertical text\n",
    "    total_height = sum(char_size for char in text)\n",
    "\n",
    "    # Create a new image with a white background\n",
    "    image = Image.new(\"RGB\", (50,total_height + font_size), \"white\")\n",
    "\n",
    "    # Create a draw object\n",
    "    draw = ImageDraw.Draw(image)\n",
    "\n",
    "    furigana_txt = 'ぷり'\n",
    "    for char in text:\n",
    "        draw.text(text_position, char, font=font, fill=\"black\")\n",
    "        # random furigana\n",
    "        random\n",
    "        if random.random() < 0.1:\n",
    "\n",
    "            furigana_position = text_position\n",
    "            furigana_x,furigana_y = text_position\n",
    "            furigana_x+=char_size\n",
    "            for furigana_char in furigana_txt:\n",
    "                draw.text((furigana_x,furigana_y),furigana_char,font=furigana_font,fill='black')\n",
    "                furigana_y += char_size/2\n",
    "        text_position = (text_position[0], text_position[1] + char_size)  # Move down for each character\n",
    "\n",
    "    # Save or display the image\n",
    "    image.save(\"test_imgs/test.jpg\")\n",
    "    image.show()\n"
   ]
  },
  {
   "cell_type": "code",
   "execution_count": 35,
   "metadata": {},
   "outputs": [],
   "source": [
    "import random"
   ]
  },
  {
   "cell_type": "code",
   "execution_count": 16,
   "metadata": {},
   "outputs": [
    {
     "name": "stderr",
     "output_type": "stream",
     "text": [
      "Error: no \"view\" rule for type \"image/png\" passed its test case\n",
      "       (for more information, add \"--debug=1\" on the command line)\n"
     ]
    }
   ],
   "source": [
    "generate_img_with_random_furi('午後から','test_imgs/test2.jpg')"
   ]
  },
  {
   "cell_type": "code",
   "execution_count": 43,
   "metadata": {},
   "outputs": [
    {
     "name": "stdout",
     "output_type": "stream",
     "text": [
      "もふかとど\n"
     ]
    }
   ],
   "source": [
    "import re\n",
    "import random\n",
    "\n",
    "def generate_random_hiragana(n):\n",
    "    hiragana_pattern = re.compile('[\\u3041-\\u3096]')\n",
    "    return ''.join([random.choice(hiragana_pattern.findall(chr(random.randint(0x3041, 0x3096)))) for _ in range(n)])\n",
    "\n",
    "# Example: Generate 5 random hiragana characters\n",
    "random_hiragana = generate_random_hiragana(5)\n",
    "print(random_hiragana)\n"
   ]
  },
  {
   "cell_type": "code",
   "execution_count": 44,
   "metadata": {},
   "outputs": [
    {
     "name": "stdout",
     "output_type": "stream",
     "text": [
      "ヴグズノン\n"
     ]
    }
   ],
   "source": [
    "import re\n",
    "import random\n",
    "\n",
    "def generate_random_katakana(n):\n",
    "    katakana_pattern = re.compile('[\\u30A1-\\u30F6]')\n",
    "    return ''.join([random.choice(katakana_pattern.findall(chr(random.randint(0x30A1, 0x30F6)))) for _ in range(n)])\n",
    "\n",
    "# Example: Generate 5 random katakana characters\n",
    "random_katakana = generate_random_katakana(5)\n",
    "print(random_katakana)\n"
   ]
  },
  {
   "cell_type": "code",
   "execution_count": 45,
   "metadata": {},
   "outputs": [],
   "source": [
    "def generate_img_with_random_furi(sentence,path):\n",
    "    # Specify the font and size\n",
    "    font_path = \"fonts/NotoSerifJP/NotoSerifJP-Black.otf\"  # Replace with the path to your TTF font file\n",
    "    font_size = 16\n",
    "    font = ImageFont.truetype(font_path, font_size)\n",
    "\n",
    "    furigana_font = 8\n",
    "    furigana_font = ImageFont.truetype(font_path,furigana_font)\n",
    "\n",
    "    # Specify the text and position\n",
    "    text = sentence\n",
    "    text_position = (10, 10)\n",
    "\n",
    "\n",
    "    # Draw the text on the image vertically\n",
    "    PADDING = 2\n",
    "    # get size of box\n",
    "    char_height = font.getbbox(text[0])[3] - font.getbbox(text[0])[1]\n",
    "    char_width = font.getbbox(text[0])[2]\n",
    "    char_size = PADDING\n",
    "    if char_width > char_height:\n",
    "        char_size += char_width\n",
    "    else:\n",
    "        char_size += char_height\n",
    "\n",
    "    # Calculate the total height of the vertical text\n",
    "    total_height = sum(char_size for char in text)\n",
    "\n",
    "    # Create a new image with a white background\n",
    "    image = Image.new(\"RGB\", (50,total_height + font_size), \"white\")\n",
    "\n",
    "    # Create a draw object\n",
    "    draw = ImageDraw.Draw(image)\n",
    "\n",
    "    for char in text:\n",
    "        draw.text(text_position, char, font=font, fill=\"black\")\n",
    "        # random furigana\n",
    "        random\n",
    "        if random.random() < 0.2:\n",
    "\n",
    "            furigana_txt = generate_random_hiragana(2)\n",
    "            furigana_x,furigana_y = text_position\n",
    "            furigana_y += 0.1\n",
    "            furigana_x+=char_size\n",
    "            for furigana_char in furigana_txt:\n",
    "                draw.text((furigana_x,furigana_y),furigana_char,font=furigana_font,fill='black')\n",
    "                furigana_y += char_size/2\n",
    "        text_position = (text_position[0], text_position[1] + char_size)  # Move down for each character\n",
    "\n",
    "    # Save or display the image\n",
    "    image.save(f\"test_imgs/{path}\")\n",
    "    image.show()\n"
   ]
  },
  {
   "cell_type": "code",
   "execution_count": 46,
   "metadata": {},
   "outputs": [
    {
     "name": "stderr",
     "output_type": "stream",
     "text": [
      "Error: no \"view\" rule for type \"image/png\" passed its test case\n",
      "       (for more information, add \"--debug=1\" on the command line)\n"
     ]
    }
   ],
   "source": [
    "generate_img_with_random_furi('午後から','test.jpg')"
   ]
  },
  {
   "cell_type": "code",
   "execution_count": null,
   "metadata": {},
   "outputs": [],
   "source": []
  }
 ],
 "metadata": {
  "kernelspec": {
   "display_name": "jpdf-to-txt-yl2GM28u",
   "language": "python",
   "name": "python3"
  },
  "language_info": {
   "codemirror_mode": {
    "name": "ipython",
    "version": 3
   },
   "file_extension": ".py",
   "mimetype": "text/x-python",
   "name": "python",
   "nbconvert_exporter": "python",
   "pygments_lexer": "ipython3",
   "version": "3.10.12"
  }
 },
 "nbformat": 4,
 "nbformat_minor": 2
}
