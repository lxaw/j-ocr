{
 "cells": [
  {
   "cell_type": "code",
   "execution_count": 2,
   "metadata": {},
   "outputs": [],
   "source": [
    "# while mangaocr used a large text base to generate synthetic images\n",
    "# since meaning is not important here, we can just use a database of all the kanji characters recognized on computers"
   ]
  },
  {
   "cell_type": "code",
   "execution_count": 3,
   "metadata": {},
   "outputs": [],
   "source": [
    "import pandas as pd"
   ]
  },
  {
   "cell_type": "code",
   "execution_count": 4,
   "metadata": {},
   "outputs": [
    {
     "name": "stdout",
     "output_type": "stream",
     "text": [
      "Random Hiragana: む\n",
      "Random Katakana: リ\n"
     ]
    }
   ],
   "source": [
    "import random\n",
    "\n",
    "def generate_random_hiragana():\n",
    "    hira_start = 0x3041\n",
    "    hira_end = 0x3097\n",
    "\n",
    "    random_hira = chr(random.randint(hira_start,hira_end))\n",
    "\n",
    "    return random_hira\n",
    "\n",
    "def generate_random_katakana():\n",
    "    kata_start = 0x30A1\n",
    "    kata_end = 0x30F7\n",
    "\n",
    "    random_kata = chr(random.randint(kata_start,kata_end))\n",
    "    return random_kata\n",
    "\n",
    "# Example usage:\n",
    "random_hiragana = generate_random_hiragana()\n",
    "random_katakana = generate_random_katakana()\n",
    "\n",
    "print(\"Random Hiragana:\", random_hiragana)\n",
    "print(\"Random Katakana:\", random_katakana)\n"
   ]
  },
  {
   "cell_type": "code",
   "execution_count": 5,
   "metadata": {},
   "outputs": [
    {
     "name": "stdout",
     "output_type": "stream",
     "text": [
      "Random Kanji:  蚪\n"
     ]
    }
   ],
   "source": [
    "import random\n",
    "\n",
    "def generate_random_kanji():\n",
    "    # Unicode range for Kanji characters\n",
    "    kanji_start = 0x4e00\n",
    "    kanji_end = 0x9fff\n",
    "\n",
    "    # Generate a random Kanji character\n",
    "    random_kanji = chr(random.randint(kanji_start, kanji_end))\n",
    "\n",
    "    return random_kanji\n",
    "\n",
    "# Example usage\n",
    "random_kanji = generate_random_kanji()\n",
    "print(\"Random Kanji: \", random_kanji)\n"
   ]
  },
  {
   "cell_type": "code",
   "execution_count": 6,
   "metadata": {},
   "outputs": [],
   "source": [
    "import numpy as np\n",
    "\n",
    "def generate_gaussian_integers(mean, variance, size):\n",
    "    # Generate numbers with a Gaussian distribution\n",
    "    gaussian_numbers = np.random.normal(mean, np.sqrt(variance), size)\n",
    "\n",
    "    # Round the numbers to the nearest integer\n",
    "    gaussian_integers = np.round(gaussian_numbers).astype(int)\n",
    "\n",
    "    return gaussian_integers"
   ]
  },
  {
   "cell_type": "code",
   "execution_count": 7,
   "metadata": {},
   "outputs": [],
   "source": [
    "def generate_random_str(mean,variance):\n",
    "    str_length = generate_gaussian_integers(mean,variance,1)[0]\n",
    "    str_chars = ''\n",
    "    for _ in range(str_length):\n",
    "        # here kanji will have 0.66 chance of generating, and hira / kata both the remainder / 2\n",
    "        rand_num = random.random()\n",
    "        if rand_num < 0.4:\n",
    "            str_chars += generate_random_kanji()\n",
    "        elif rand_num < 0.8:\n",
    "            str_chars += generate_random_hiragana()\n",
    "        else:\n",
    "            str_chars += generate_random_katakana() \n",
    "    return str_chars"
   ]
  },
  {
   "cell_type": "code",
   "execution_count": 8,
   "metadata": {},
   "outputs": [],
   "source": [
    "num_samples = 50000\n",
    "samples = []\n",
    "for _ in range(num_samples):\n",
    "    samples.append(generate_random_str(5,1))\n",
    "df = pd.DataFrame(samples,columns=['string'])\n",
    "df.to_csv('samples.csv',index=False)"
   ]
  },
  {
   "cell_type": "code",
   "execution_count": 9,
   "metadata": {},
   "outputs": [],
   "source": [
    "# or just read from corpus (better)"
   ]
  },
  {
   "cell_type": "code",
   "execution_count": 10,
   "metadata": {},
   "outputs": [
    {
     "ename": "Error",
     "evalue": "need to escape, but no escapechar set",
     "output_type": "error",
     "traceback": [
      "\u001b[0;31m---------------------------------------------------------------------------\u001b[0m",
      "\u001b[0;31mError\u001b[0m                                     Traceback (most recent call last)",
      "\u001b[1;32m/home/whalenlex/Desktop/jpdf-to-txt/synthetic_data_gen.ipynb Cell 9\u001b[0m line \u001b[0;36m2\n\u001b[1;32m     <a href='vscode-notebook-cell://ssh-remote%2B10.173.98.203/home/whalenlex/Desktop/jpdf-to-txt/synthetic_data_gen.ipynb#X12sdnNjb2RlLXJlbW90ZQ%3D%3D?line=18'>19</a>\u001b[0m     \u001b[39m# Handle the issue, e.g., by manually fixing the problematic line\u001b[39;00m\n\u001b[1;32m     <a href='vscode-notebook-cell://ssh-remote%2B10.173.98.203/home/whalenlex/Desktop/jpdf-to-txt/synthetic_data_gen.ipynb#X12sdnNjb2RlLXJlbW90ZQ%3D%3D?line=19'>20</a>\u001b[0m \n\u001b[1;32m     <a href='vscode-notebook-cell://ssh-remote%2B10.173.98.203/home/whalenlex/Desktop/jpdf-to-txt/synthetic_data_gen.ipynb#X12sdnNjb2RlLXJlbW90ZQ%3D%3D?line=20'>21</a>\u001b[0m \u001b[39m# Save the DataFrame to a CSV file\u001b[39;00m\n\u001b[1;32m     <a href='vscode-notebook-cell://ssh-remote%2B10.173.98.203/home/whalenlex/Desktop/jpdf-to-txt/synthetic_data_gen.ipynb#X12sdnNjb2RlLXJlbW90ZQ%3D%3D?line=21'>22</a>\u001b[0m csv_output_path \u001b[39m=\u001b[39m \u001b[39m\"\u001b[39m\u001b[39msentences.csv\u001b[39m\u001b[39m\"\u001b[39m\n\u001b[0;32m---> <a href='vscode-notebook-cell://ssh-remote%2B10.173.98.203/home/whalenlex/Desktop/jpdf-to-txt/synthetic_data_gen.ipynb#X12sdnNjb2RlLXJlbW90ZQ%3D%3D?line=22'>23</a>\u001b[0m df\u001b[39m.\u001b[39;49mto_csv(csv_output_path, index\u001b[39m=\u001b[39;49m\u001b[39mFalse\u001b[39;49;00m)\n\u001b[1;32m     <a href='vscode-notebook-cell://ssh-remote%2B10.173.98.203/home/whalenlex/Desktop/jpdf-to-txt/synthetic_data_gen.ipynb#X12sdnNjb2RlLXJlbW90ZQ%3D%3D?line=24'>25</a>\u001b[0m \u001b[39m# Display the DataFrame\u001b[39;00m\n\u001b[1;32m     <a href='vscode-notebook-cell://ssh-remote%2B10.173.98.203/home/whalenlex/Desktop/jpdf-to-txt/synthetic_data_gen.ipynb#X12sdnNjb2RlLXJlbW90ZQ%3D%3D?line=25'>26</a>\u001b[0m df\u001b[39m.\u001b[39mhead(\u001b[39m5\u001b[39m)\n",
      "File \u001b[0;32m~/.local/share/virtualenvs/jpdf-to-txt-x2aoK0lp/lib/python3.10/site-packages/pandas/core/generic.py:3902\u001b[0m, in \u001b[0;36mNDFrame.to_csv\u001b[0;34m(self, path_or_buf, sep, na_rep, float_format, columns, header, index, index_label, mode, encoding, compression, quoting, quotechar, lineterminator, chunksize, date_format, doublequote, escapechar, decimal, errors, storage_options)\u001b[0m\n\u001b[1;32m   3891\u001b[0m df \u001b[39m=\u001b[39m \u001b[39mself\u001b[39m \u001b[39mif\u001b[39;00m \u001b[39misinstance\u001b[39m(\u001b[39mself\u001b[39m, ABCDataFrame) \u001b[39melse\u001b[39;00m \u001b[39mself\u001b[39m\u001b[39m.\u001b[39mto_frame()\n\u001b[1;32m   3893\u001b[0m formatter \u001b[39m=\u001b[39m DataFrameFormatter(\n\u001b[1;32m   3894\u001b[0m     frame\u001b[39m=\u001b[39mdf,\n\u001b[1;32m   3895\u001b[0m     header\u001b[39m=\u001b[39mheader,\n\u001b[0;32m   (...)\u001b[0m\n\u001b[1;32m   3899\u001b[0m     decimal\u001b[39m=\u001b[39mdecimal,\n\u001b[1;32m   3900\u001b[0m )\n\u001b[0;32m-> 3902\u001b[0m \u001b[39mreturn\u001b[39;00m DataFrameRenderer(formatter)\u001b[39m.\u001b[39;49mto_csv(\n\u001b[1;32m   3903\u001b[0m     path_or_buf,\n\u001b[1;32m   3904\u001b[0m     lineterminator\u001b[39m=\u001b[39;49mlineterminator,\n\u001b[1;32m   3905\u001b[0m     sep\u001b[39m=\u001b[39;49msep,\n\u001b[1;32m   3906\u001b[0m     encoding\u001b[39m=\u001b[39;49mencoding,\n\u001b[1;32m   3907\u001b[0m     errors\u001b[39m=\u001b[39;49merrors,\n\u001b[1;32m   3908\u001b[0m     compression\u001b[39m=\u001b[39;49mcompression,\n\u001b[1;32m   3909\u001b[0m     quoting\u001b[39m=\u001b[39;49mquoting,\n\u001b[1;32m   3910\u001b[0m     columns\u001b[39m=\u001b[39;49mcolumns,\n\u001b[1;32m   3911\u001b[0m     index_label\u001b[39m=\u001b[39;49mindex_label,\n\u001b[1;32m   3912\u001b[0m     mode\u001b[39m=\u001b[39;49mmode,\n\u001b[1;32m   3913\u001b[0m     chunksize\u001b[39m=\u001b[39;49mchunksize,\n\u001b[1;32m   3914\u001b[0m     quotechar\u001b[39m=\u001b[39;49mquotechar,\n\u001b[1;32m   3915\u001b[0m     date_format\u001b[39m=\u001b[39;49mdate_format,\n\u001b[1;32m   3916\u001b[0m     doublequote\u001b[39m=\u001b[39;49mdoublequote,\n\u001b[1;32m   3917\u001b[0m     escapechar\u001b[39m=\u001b[39;49mescapechar,\n\u001b[1;32m   3918\u001b[0m     storage_options\u001b[39m=\u001b[39;49mstorage_options,\n\u001b[1;32m   3919\u001b[0m )\n",
      "File \u001b[0;32m~/.local/share/virtualenvs/jpdf-to-txt-x2aoK0lp/lib/python3.10/site-packages/pandas/io/formats/format.py:1152\u001b[0m, in \u001b[0;36mDataFrameRenderer.to_csv\u001b[0;34m(self, path_or_buf, encoding, sep, columns, index_label, mode, compression, quoting, quotechar, lineterminator, chunksize, date_format, doublequote, escapechar, errors, storage_options)\u001b[0m\n\u001b[1;32m   1131\u001b[0m     created_buffer \u001b[39m=\u001b[39m \u001b[39mFalse\u001b[39;00m\n\u001b[1;32m   1133\u001b[0m csv_formatter \u001b[39m=\u001b[39m CSVFormatter(\n\u001b[1;32m   1134\u001b[0m     path_or_buf\u001b[39m=\u001b[39mpath_or_buf,\n\u001b[1;32m   1135\u001b[0m     lineterminator\u001b[39m=\u001b[39mlineterminator,\n\u001b[0;32m   (...)\u001b[0m\n\u001b[1;32m   1150\u001b[0m     formatter\u001b[39m=\u001b[39m\u001b[39mself\u001b[39m\u001b[39m.\u001b[39mfmt,\n\u001b[1;32m   1151\u001b[0m )\n\u001b[0;32m-> 1152\u001b[0m csv_formatter\u001b[39m.\u001b[39;49msave()\n\u001b[1;32m   1154\u001b[0m \u001b[39mif\u001b[39;00m created_buffer:\n\u001b[1;32m   1155\u001b[0m     \u001b[39massert\u001b[39;00m \u001b[39misinstance\u001b[39m(path_or_buf, StringIO)\n",
      "File \u001b[0;32m~/.local/share/virtualenvs/jpdf-to-txt-x2aoK0lp/lib/python3.10/site-packages/pandas/io/formats/csvs.py:266\u001b[0m, in \u001b[0;36mCSVFormatter.save\u001b[0;34m(self)\u001b[0m\n\u001b[1;32m    247\u001b[0m \u001b[39mwith\u001b[39;00m get_handle(\n\u001b[1;32m    248\u001b[0m     \u001b[39mself\u001b[39m\u001b[39m.\u001b[39mfilepath_or_buffer,\n\u001b[1;32m    249\u001b[0m     \u001b[39mself\u001b[39m\u001b[39m.\u001b[39mmode,\n\u001b[0;32m   (...)\u001b[0m\n\u001b[1;32m    254\u001b[0m ) \u001b[39mas\u001b[39;00m handles:\n\u001b[1;32m    255\u001b[0m     \u001b[39m# Note: self.encoding is irrelevant here\u001b[39;00m\n\u001b[1;32m    256\u001b[0m     \u001b[39mself\u001b[39m\u001b[39m.\u001b[39mwriter \u001b[39m=\u001b[39m csvlib\u001b[39m.\u001b[39mwriter(\n\u001b[1;32m    257\u001b[0m         handles\u001b[39m.\u001b[39mhandle,\n\u001b[1;32m    258\u001b[0m         lineterminator\u001b[39m=\u001b[39m\u001b[39mself\u001b[39m\u001b[39m.\u001b[39mlineterminator,\n\u001b[0;32m   (...)\u001b[0m\n\u001b[1;32m    263\u001b[0m         quotechar\u001b[39m=\u001b[39m\u001b[39mself\u001b[39m\u001b[39m.\u001b[39mquotechar,\n\u001b[1;32m    264\u001b[0m     )\n\u001b[0;32m--> 266\u001b[0m     \u001b[39mself\u001b[39;49m\u001b[39m.\u001b[39;49m_save()\n",
      "File \u001b[0;32m~/.local/share/virtualenvs/jpdf-to-txt-x2aoK0lp/lib/python3.10/site-packages/pandas/io/formats/csvs.py:271\u001b[0m, in \u001b[0;36mCSVFormatter._save\u001b[0;34m(self)\u001b[0m\n\u001b[1;32m    269\u001b[0m \u001b[39mif\u001b[39;00m \u001b[39mself\u001b[39m\u001b[39m.\u001b[39m_need_to_save_header:\n\u001b[1;32m    270\u001b[0m     \u001b[39mself\u001b[39m\u001b[39m.\u001b[39m_save_header()\n\u001b[0;32m--> 271\u001b[0m \u001b[39mself\u001b[39;49m\u001b[39m.\u001b[39;49m_save_body()\n",
      "File \u001b[0;32m~/.local/share/virtualenvs/jpdf-to-txt-x2aoK0lp/lib/python3.10/site-packages/pandas/io/formats/csvs.py:309\u001b[0m, in \u001b[0;36mCSVFormatter._save_body\u001b[0;34m(self)\u001b[0m\n\u001b[1;32m    307\u001b[0m \u001b[39mif\u001b[39;00m start_i \u001b[39m>\u001b[39m\u001b[39m=\u001b[39m end_i:\n\u001b[1;32m    308\u001b[0m     \u001b[39mbreak\u001b[39;00m\n\u001b[0;32m--> 309\u001b[0m \u001b[39mself\u001b[39;49m\u001b[39m.\u001b[39;49m_save_chunk(start_i, end_i)\n",
      "File \u001b[0;32m~/.local/share/virtualenvs/jpdf-to-txt-x2aoK0lp/lib/python3.10/site-packages/pandas/io/formats/csvs.py:320\u001b[0m, in \u001b[0;36mCSVFormatter._save_chunk\u001b[0;34m(self, start_i, end_i)\u001b[0m\n\u001b[1;32m    317\u001b[0m data \u001b[39m=\u001b[39m [res\u001b[39m.\u001b[39miget_values(i) \u001b[39mfor\u001b[39;00m i \u001b[39min\u001b[39;00m \u001b[39mrange\u001b[39m(\u001b[39mlen\u001b[39m(res\u001b[39m.\u001b[39mitems))]\n\u001b[1;32m    319\u001b[0m ix \u001b[39m=\u001b[39m \u001b[39mself\u001b[39m\u001b[39m.\u001b[39mdata_index[slicer]\u001b[39m.\u001b[39m_format_native_types(\u001b[39m*\u001b[39m\u001b[39m*\u001b[39m\u001b[39mself\u001b[39m\u001b[39m.\u001b[39m_number_format)\n\u001b[0;32m--> 320\u001b[0m libwriters\u001b[39m.\u001b[39;49mwrite_csv_rows(\n\u001b[1;32m    321\u001b[0m     data,\n\u001b[1;32m    322\u001b[0m     ix,\n\u001b[1;32m    323\u001b[0m     \u001b[39mself\u001b[39;49m\u001b[39m.\u001b[39;49mnlevels,\n\u001b[1;32m    324\u001b[0m     \u001b[39mself\u001b[39;49m\u001b[39m.\u001b[39;49mcols,\n\u001b[1;32m    325\u001b[0m     \u001b[39mself\u001b[39;49m\u001b[39m.\u001b[39;49mwriter,\n\u001b[1;32m    326\u001b[0m )\n",
      "File \u001b[0;32mwriters.pyx:72\u001b[0m, in \u001b[0;36mpandas._libs.writers.write_csv_rows\u001b[0;34m()\u001b[0m\n",
      "\u001b[0;31mError\u001b[0m: need to escape, but no escapechar set"
     ]
    }
   ],
   "source": [
    "text_file_path = \"sentences/sentences01.txt\"\n",
    "\n",
    "# Initialize an empty list to store non-empty lines\n",
    "lines = []\n",
    "\n",
    "# Read the text file line by line and filter out empty lines\n",
    "with open(text_file_path, 'r') as file:\n",
    "    for line_number, line in enumerate(file, 1):\n",
    "        stripped = line.strip()\n",
    "        if stripped:  # Check if the line is not empty after stripping whitespace\n",
    "            lines.append(stripped)\n",
    "\n",
    "# Create a DataFrame from the non-empty lines\n",
    "try:\n",
    "    df = pd.DataFrame({'text': lines})\n",
    "except pd.errors.ParserError as e:\n",
    "    print(f\"ParserError: {e}\")\n",
    "    print(f\"Problematic line (line number {e.line + 1}): {lines[e.line]}\")\n",
    "    # Handle the issue, e.g., by manually fixing the problematic line\n",
    "\n",
    "# Save the DataFrame to a CSV file\n",
    "csv_output_path = \"sentences.csv\"\n",
    "df.to_csv(csv_output_path, index=False)\n",
    "\n",
    "# Display the DataFrame\n",
    "df.head(5)"
   ]
  }
 ],
 "metadata": {
  "kernelspec": {
   "display_name": "jpdf-to-txt-yl2GM28u",
   "language": "python",
   "name": "python3"
  },
  "language_info": {
   "codemirror_mode": {
    "name": "ipython",
    "version": 3
   },
   "file_extension": ".py",
   "mimetype": "text/x-python",
   "name": "python",
   "nbconvert_exporter": "python",
   "pygments_lexer": "ipython3",
   "version": "3.10.12"
  }
 },
 "nbformat": 4,
 "nbformat_minor": 2
}
