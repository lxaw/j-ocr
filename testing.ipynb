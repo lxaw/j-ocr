{
 "cells": [
  {
   "cell_type": "code",
   "execution_count": 65,
   "metadata": {},
   "outputs": [
    {
     "name": "stderr",
     "output_type": "stream",
     "text": [
      "Some weights of ViTModel were not initialized from the model checkpoint at facebook/deit-tiny-patch16-224 and are newly initialized: ['vit.pooler.dense.weight', 'vit.pooler.dense.bias']\n",
      "You should probably TRAIN this model on a down-stream task to be able to use it for predictions and inference.\n",
      "Config of the decoder: <class 'transformers.models.bert.modeling_bert.BertModel'> is overwritten by shared decoder config: BertConfig {\n",
      "  \"_name_or_path\": \"cl-tohoku/bert-base-japanese-char-v2\",\n",
      "  \"add_cross_attention\": true,\n",
      "  \"architectures\": [\n",
      "    \"BertForMaskedLM\"\n",
      "  ],\n",
      "  \"attention_probs_dropout_prob\": 0.1,\n",
      "  \"classifier_dropout\": null,\n",
      "  \"hidden_act\": \"gelu\",\n",
      "  \"hidden_dropout_prob\": 0.1,\n",
      "  \"hidden_size\": 768,\n",
      "  \"initializer_range\": 0.02,\n",
      "  \"intermediate_size\": 3072,\n",
      "  \"is_decoder\": true,\n",
      "  \"layer_norm_eps\": 1e-12,\n",
      "  \"max_length\": 300,\n",
      "  \"max_position_embeddings\": 512,\n",
      "  \"model_type\": \"bert\",\n",
      "  \"num_attention_heads\": 12,\n",
      "  \"num_hidden_layers\": 12,\n",
      "  \"pad_token_id\": 0,\n",
      "  \"position_embedding_type\": \"absolute\",\n",
      "  \"tokenizer_class\": \"BertJapaneseTokenizer\",\n",
      "  \"transformers_version\": \"4.36.0\",\n",
      "  \"type_vocab_size\": 2,\n",
      "  \"use_cache\": true,\n",
      "  \"vocab_size\": 6144\n",
      "}\n",
      "\n"
     ]
    }
   ],
   "source": [
    "import torch\n",
    "import torchvision.transforms as transforms\n",
    "from transformers import AutoFeatureExtractor, AutoProcessor, AutoTokenizer, VisionEncoderDecoderModel, VisionEncoderDecoderConfig,AutoModel\n",
    "from PIL import Image\n",
    "class CustomVisionEncoderDecoderModel(VisionEncoderDecoderModel):\n",
    "    def prepare_inputs_for_generation(self, pixel_values, attention_mask=None, **kwargs):\n",
    "        # Ensure the pixel_values has the correct shape\n",
    "        print(pixel_values.shape)\n",
    "\n",
    "        return {\n",
    "            \"pixel_values\":pixel_values\n",
    "        }\n",
    "\n",
    "\n",
    " \n",
    "\n",
    "\n",
    "def load_vision_encoder_decoder_model(model_path, encoder_name, decoder_name, max_length, num_decoder_layers=None):\n",
    "    config = VisionEncoderDecoderConfig.from_pretrained(model_path)\n",
    "    encoder = AutoModel.from_pretrained(encoder_name)\n",
    "    decoder = AutoModel.from_pretrained(decoder_name)\n",
    "\n",
    "    if num_decoder_layers is not None:\n",
    "        # Handle the number of decoder layers based on the model type if needed\n",
    "        pass\n",
    "\n",
    "    model = CustomVisionEncoderDecoderModel(encoder=encoder, decoder=decoder, config=config)\n",
    "\n",
    "    model.config.decoder_start_token_id = model.config.pad_token_id\n",
    "    model.config.eos_token_id = model.config.pad_token_id\n",
    "    model.config.max_length = max_length\n",
    "    model.config.early_stopping = True\n",
    "    model.config.no_repeat_ngram_size = 3\n",
    "    model.config.length_penalty = 2.0\n",
    "    model.config.num_beams = 4\n",
    "\n",
    "    return model\n",
    "\n",
    "# Replace 'path/to/saved/model' with the actual path where your model is saved\n",
    "model_path = \"final/\"\n",
    "encoder_name = 'facebook/deit-tiny-patch16-224'\n",
    "decoder_name = 'cl-tohoku/bert-base-japanese-char-v2'\n",
    "max_length = 300  # Replace with the actual maximum length\n",
    "num_decoder_layers = 2  # Replace with the actual number of decoder layers\n",
    "\n",
    "loaded_model = load_vision_encoder_decoder_model(model_path, encoder_name, decoder_name, max_length, num_decoder_layers=num_decoder_layers)"
   ]
  },
  {
   "cell_type": "code",
   "execution_count": 86,
   "metadata": {},
   "outputs": [],
   "source": [
    "import re\n",
    "from pathlib import Path\n",
    "import torch\n",
    "from PIL import Image\n",
    "from transformers import AutoFeatureExtractor, AutoTokenizer, VisionEncoderDecoderModel\n",
    "\n",
    "\n",
    "class OCR:\n",
    "    def __init__(self,model_path, force_cpu=False):\n",
    "        self.feature_extractor = AutoFeatureExtractor.from_pretrained(\"facebook/deit-tiny-patch16-224\")\n",
    "        self.tokenizer = AutoTokenizer.from_pretrained(\"cl-tohoku/bert-base-japanese-char-v2\")\n",
    "        self.model = VisionEncoderDecoderModel.from_pretrained(model_path)\n",
    "\n",
    "        if not force_cpu and torch.cuda.is_available():\n",
    "            print('Using CUDA')\n",
    "            self.model.cuda()\n",
    "        elif not force_cpu and torch.backends.mps.is_available():\n",
    "            print('Using MPS')\n",
    "            self.model.to('mps')\n",
    "        else:\n",
    "            print('Using CPU')\n",
    "\n",
    "        print('OCR ready')\n",
    "\n",
    "    def __call__(self, img_or_path):\n",
    "        if isinstance(img_or_path, str) or isinstance(img_or_path, Path):\n",
    "            img = Image.open(img_or_path)\n",
    "        elif isinstance(img_or_path, Image.Image):\n",
    "            img = img_or_path\n",
    "        else:\n",
    "            raise ValueError(f'img_or_path must be a path or PIL.Image, instead got: {img_or_path}')\n",
    "\n",
    "        x = img\n",
    "        x = self._preprocess(img)\n",
    "        x = self.model.generate(x[None].to(self.model.device), max_length=300)[0].cpu()\n",
    "        x = self.tokenizer.decode(x, skip_special_tokens=True)\n",
    "        return x\n",
    "\n",
    "    def _preprocess(self, img):\n",
    "        pixel_values = self.feature_extractor(img, return_tensors=\"pt\").pixel_values\n",
    "        # Define the transformation\n",
    "        return pixel_values.squeeze()"
   ]
  },
  {
   "cell_type": "code",
   "execution_count": 87,
   "metadata": {},
   "outputs": [
    {
     "name": "stderr",
     "output_type": "stream",
     "text": [
      "Some weights of VisionEncoderDecoderModel were not initialized from the model checkpoint at final/ and are newly initialized: ['decoder.bert.encoder.layer.2.attention.self.value.bias', 'decoder.bert.encoder.layer.3.crossattention.self.value.weight', 'decoder.bert.encoder.layer.11.output.LayerNorm.weight', 'decoder.bert.encoder.layer.3.attention.output.LayerNorm.weight', 'decoder.bert.encoder.layer.10.attention.output.LayerNorm.weight', 'decoder.bert.encoder.layer.8.output.dense.bias', 'decoder.bert.encoder.layer.6.intermediate.dense.bias', 'decoder.bert.encoder.layer.7.attention.self.key.bias', 'decoder.bert.encoder.layer.4.attention.self.value.bias', 'decoder.bert.encoder.layer.9.crossattention.output.LayerNorm.bias', 'decoder.bert.encoder.layer.8.attention.self.key.weight', 'decoder.bert.encoder.layer.9.output.dense.weight', 'decoder.bert.encoder.layer.6.attention.output.LayerNorm.bias', 'decoder.bert.encoder.layer.9.attention.self.key.bias', 'decoder.bert.encoder.layer.8.attention.output.LayerNorm.weight', 'decoder.bert.encoder.layer.11.attention.self.query.weight', 'decoder.bert.encoder.layer.11.crossattention.self.key.bias', 'decoder.bert.encoder.layer.10.crossattention.self.value.bias', 'decoder.bert.encoder.layer.8.output.LayerNorm.weight', 'decoder.bert.encoder.layer.4.output.dense.bias', 'decoder.bert.encoder.layer.10.attention.self.query.weight', 'decoder.bert.encoder.layer.7.output.LayerNorm.weight', 'decoder.bert.encoder.layer.6.attention.output.dense.weight', 'decoder.bert.encoder.layer.9.output.dense.bias', 'decoder.bert.encoder.layer.7.attention.output.dense.weight', 'decoder.bert.encoder.layer.7.crossattention.self.query.weight', 'decoder.bert.encoder.layer.4.attention.self.key.weight', 'decoder.bert.encoder.layer.6.crossattention.self.value.weight', 'decoder.bert.encoder.layer.5.crossattention.output.dense.weight', 'decoder.bert.encoder.layer.6.intermediate.dense.weight', 'decoder.bert.encoder.layer.9.attention.self.query.bias', 'decoder.bert.encoder.layer.8.intermediate.dense.bias', 'decoder.bert.encoder.layer.11.crossattention.self.key.weight', 'decoder.bert.encoder.layer.3.output.LayerNorm.weight', 'decoder.bert.encoder.layer.11.attention.self.key.weight', 'decoder.bert.encoder.layer.10.crossattention.output.dense.weight', 'decoder.bert.encoder.layer.9.crossattention.self.query.bias', 'decoder.bert.encoder.layer.11.attention.output.dense.weight', 'decoder.bert.encoder.layer.4.attention.self.query.weight', 'decoder.bert.encoder.layer.9.attention.self.query.weight', 'decoder.bert.encoder.layer.2.crossattention.self.query.weight', 'decoder.bert.encoder.layer.11.crossattention.self.value.weight', 'decoder.bert.encoder.layer.10.crossattention.self.query.weight', 'decoder.bert.encoder.layer.11.crossattention.output.LayerNorm.bias', 'decoder.bert.encoder.layer.7.output.dense.bias', 'decoder.bert.encoder.layer.7.crossattention.output.dense.bias', 'decoder.bert.encoder.layer.6.crossattention.output.dense.bias', 'decoder.bert.encoder.layer.2.attention.self.value.weight', 'decoder.bert.encoder.layer.11.crossattention.output.dense.bias', 'decoder.bert.encoder.layer.7.crossattention.self.value.bias', 'decoder.bert.encoder.layer.2.crossattention.self.query.bias', 'decoder.bert.encoder.layer.10.attention.output.dense.weight', 'decoder.bert.encoder.layer.6.output.dense.bias', 'decoder.bert.encoder.layer.2.output.LayerNorm.bias', 'decoder.bert.encoder.layer.2.intermediate.dense.weight', 'decoder.bert.encoder.layer.3.attention.self.query.weight', 'decoder.bert.encoder.layer.3.crossattention.self.value.bias', 'decoder.bert.encoder.layer.5.attention.self.query.bias', 'decoder.bert.encoder.layer.10.crossattention.output.LayerNorm.bias', 'decoder.bert.encoder.layer.10.attention.output.dense.bias', 'decoder.bert.encoder.layer.4.crossattention.self.value.weight', 'decoder.bert.encoder.layer.8.crossattention.output.dense.bias', 'decoder.bert.encoder.layer.4.intermediate.dense.weight', 'decoder.bert.encoder.layer.10.output.LayerNorm.bias', 'decoder.bert.encoder.layer.8.attention.output.LayerNorm.bias', 'decoder.bert.encoder.layer.5.attention.output.dense.weight', 'decoder.bert.encoder.layer.4.attention.output.dense.weight', 'decoder.bert.encoder.layer.4.intermediate.dense.bias', 'decoder.bert.encoder.layer.3.output.dense.bias', 'decoder.bert.encoder.layer.2.output.LayerNorm.weight', 'decoder.bert.encoder.layer.3.crossattention.output.dense.bias', 'decoder.bert.encoder.layer.7.crossattention.self.query.bias', 'decoder.bert.encoder.layer.9.crossattention.self.value.bias', 'decoder.bert.encoder.layer.10.attention.self.key.weight', 'decoder.bert.encoder.layer.8.attention.self.query.weight', 'decoder.bert.encoder.layer.3.attention.self.value.bias', 'decoder.bert.encoder.layer.10.intermediate.dense.bias', 'decoder.bert.encoder.layer.2.crossattention.output.dense.bias', 'decoder.bert.encoder.layer.3.attention.output.dense.weight', 'decoder.bert.encoder.layer.7.crossattention.output.dense.weight', 'decoder.bert.encoder.layer.5.output.dense.bias', 'decoder.bert.encoder.layer.6.crossattention.self.key.bias', 'decoder.bert.encoder.layer.6.attention.self.value.bias', 'decoder.bert.encoder.layer.5.attention.output.dense.bias', 'decoder.bert.encoder.layer.5.output.LayerNorm.weight', 'decoder.bert.encoder.layer.11.attention.self.key.bias', 'decoder.bert.encoder.layer.6.crossattention.output.LayerNorm.weight', 'decoder.bert.encoder.layer.7.attention.output.dense.bias', 'decoder.bert.encoder.layer.10.crossattention.output.LayerNorm.weight', 'decoder.bert.encoder.layer.2.crossattention.self.key.bias', 'decoder.bert.encoder.layer.4.output.dense.weight', 'decoder.bert.encoder.layer.2.attention.output.dense.bias', 'decoder.bert.encoder.layer.4.crossattention.output.dense.weight', 'decoder.bert.encoder.layer.4.attention.output.dense.bias', 'decoder.bert.encoder.layer.2.attention.self.query.bias', 'decoder.bert.encoder.layer.5.crossattention.self.value.bias', 'decoder.bert.encoder.layer.8.crossattention.output.LayerNorm.weight', 'decoder.bert.encoder.layer.9.intermediate.dense.weight', 'decoder.bert.encoder.layer.5.attention.self.key.bias', 'decoder.bert.encoder.layer.2.attention.output.LayerNorm.weight', 'decoder.bert.encoder.layer.4.crossattention.output.LayerNorm.bias', 'decoder.bert.encoder.layer.4.crossattention.self.key.weight', 'decoder.bert.encoder.layer.9.attention.output.LayerNorm.bias', 'decoder.bert.encoder.layer.7.intermediate.dense.weight', 'decoder.bert.encoder.layer.2.attention.self.key.weight', 'decoder.bert.encoder.layer.5.attention.self.value.weight', 'decoder.bert.encoder.layer.9.crossattention.output.dense.bias', 'decoder.bert.encoder.layer.5.attention.self.value.bias', 'decoder.bert.encoder.layer.5.attention.self.key.weight', 'decoder.bert.encoder.layer.6.crossattention.self.query.weight', 'decoder.bert.encoder.layer.5.output.dense.weight', 'decoder.bert.encoder.layer.4.output.LayerNorm.weight', 'decoder.bert.encoder.layer.2.crossattention.self.key.weight', 'decoder.bert.encoder.layer.3.crossattention.self.key.weight', 'decoder.bert.encoder.layer.7.output.dense.weight', 'decoder.bert.encoder.layer.7.attention.output.LayerNorm.bias', 'decoder.bert.encoder.layer.2.output.dense.weight', 'decoder.bert.encoder.layer.3.crossattention.self.key.bias', 'decoder.bert.encoder.layer.9.crossattention.self.key.weight', 'decoder.bert.encoder.layer.11.crossattention.self.value.bias', 'decoder.bert.encoder.layer.9.attention.self.key.weight', 'decoder.bert.encoder.layer.11.crossattention.self.query.bias', 'decoder.bert.encoder.layer.11.attention.output.LayerNorm.bias', 'decoder.bert.encoder.layer.4.attention.output.LayerNorm.bias', 'decoder.bert.encoder.layer.9.attention.self.value.bias', 'decoder.bert.encoder.layer.9.crossattention.output.dense.weight', 'decoder.bert.encoder.layer.3.attention.self.key.weight', 'decoder.bert.encoder.layer.8.attention.self.value.weight', 'decoder.bert.encoder.layer.7.attention.self.value.bias', 'decoder.bert.encoder.layer.11.crossattention.output.dense.weight', 'decoder.bert.encoder.layer.5.crossattention.output.LayerNorm.bias', 'decoder.bert.encoder.layer.4.crossattention.output.LayerNorm.weight', 'decoder.bert.encoder.layer.8.crossattention.self.key.bias', 'decoder.bert.encoder.layer.10.crossattention.self.key.weight', 'decoder.bert.encoder.layer.6.output.LayerNorm.bias', 'decoder.bert.encoder.layer.6.attention.self.value.weight', 'decoder.bert.encoder.layer.5.intermediate.dense.bias', 'decoder.bert.encoder.layer.3.output.dense.weight', 'decoder.bert.encoder.layer.7.attention.output.LayerNorm.weight', 'decoder.bert.encoder.layer.6.attention.self.query.bias', 'decoder.bert.encoder.layer.6.output.LayerNorm.weight', 'decoder.bert.encoder.layer.3.crossattention.self.query.weight', 'decoder.bert.encoder.layer.4.crossattention.output.dense.bias', 'decoder.bert.encoder.layer.5.crossattention.self.value.weight', 'decoder.bert.encoder.layer.3.crossattention.output.LayerNorm.bias', 'decoder.bert.encoder.layer.6.crossattention.output.dense.weight', 'decoder.bert.encoder.layer.7.crossattention.output.LayerNorm.bias', 'decoder.bert.encoder.layer.9.attention.output.dense.bias', 'decoder.bert.encoder.layer.7.output.LayerNorm.bias', 'decoder.bert.encoder.layer.5.attention.self.query.weight', 'decoder.bert.encoder.layer.4.attention.self.key.bias', 'decoder.bert.encoder.layer.9.crossattention.self.value.weight', 'decoder.bert.encoder.layer.7.crossattention.self.key.bias', 'decoder.bert.encoder.layer.10.intermediate.dense.weight', 'decoder.bert.encoder.layer.5.crossattention.self.key.weight', 'decoder.bert.encoder.layer.2.crossattention.output.LayerNorm.bias', 'decoder.bert.encoder.layer.11.attention.output.LayerNorm.weight', 'decoder.bert.encoder.layer.10.crossattention.self.query.bias', 'decoder.bert.encoder.layer.4.crossattention.self.key.bias', 'decoder.bert.encoder.layer.4.crossattention.self.query.weight', 'decoder.bert.encoder.layer.6.crossattention.self.value.bias', 'decoder.bert.encoder.layer.8.attention.self.value.bias', 'decoder.bert.encoder.layer.3.intermediate.dense.weight', 'decoder.bert.encoder.layer.9.crossattention.self.query.weight', 'decoder.bert.encoder.layer.7.crossattention.self.key.weight', 'decoder.bert.encoder.layer.3.attention.self.query.bias', 'decoder.bert.encoder.layer.11.output.dense.weight', 'decoder.bert.encoder.layer.6.attention.self.query.weight', 'decoder.bert.encoder.layer.7.crossattention.output.LayerNorm.weight', 'decoder.bert.encoder.layer.8.attention.output.dense.bias', 'decoder.bert.encoder.layer.11.attention.self.value.bias', 'decoder.bert.encoder.layer.2.crossattention.self.value.weight', 'decoder.bert.encoder.layer.6.output.dense.weight', 'decoder.bert.encoder.layer.11.attention.output.dense.bias', 'decoder.bert.encoder.layer.6.attention.self.key.bias', 'decoder.bert.encoder.layer.4.attention.self.query.bias', 'decoder.bert.encoder.layer.9.output.LayerNorm.bias', 'decoder.bert.encoder.layer.3.crossattention.self.query.bias', 'decoder.bert.encoder.layer.10.attention.self.key.bias', 'decoder.bert.encoder.layer.2.attention.self.key.bias', 'decoder.bert.encoder.layer.5.crossattention.output.LayerNorm.weight', 'decoder.bert.encoder.layer.8.output.dense.weight', 'decoder.bert.encoder.layer.6.attention.self.key.weight', 'decoder.bert.encoder.layer.9.output.LayerNorm.weight', 'decoder.bert.encoder.layer.11.intermediate.dense.weight', 'decoder.bert.encoder.layer.2.output.dense.bias', 'decoder.bert.encoder.layer.2.crossattention.output.dense.weight', 'decoder.bert.encoder.layer.6.attention.output.LayerNorm.weight', 'decoder.bert.encoder.layer.6.crossattention.output.LayerNorm.bias', 'decoder.bert.encoder.layer.4.crossattention.self.query.bias', 'decoder.bert.encoder.layer.3.attention.self.value.weight', 'decoder.bert.encoder.layer.4.output.LayerNorm.bias', 'decoder.bert.encoder.layer.11.crossattention.self.query.weight', 'decoder.bert.encoder.layer.10.output.dense.bias', 'decoder.bert.encoder.layer.7.attention.self.value.weight', 'decoder.bert.encoder.layer.3.output.LayerNorm.bias', 'decoder.bert.encoder.layer.5.attention.output.LayerNorm.weight', 'decoder.bert.encoder.layer.5.attention.output.LayerNorm.bias', 'decoder.bert.encoder.layer.7.intermediate.dense.bias', 'decoder.bert.encoder.layer.8.crossattention.self.key.weight', 'decoder.bert.encoder.layer.9.attention.output.dense.weight', 'decoder.bert.encoder.layer.7.attention.self.key.weight', 'decoder.bert.encoder.layer.9.crossattention.output.LayerNorm.weight', 'decoder.bert.encoder.layer.3.attention.output.LayerNorm.bias', 'decoder.bert.encoder.layer.2.attention.output.LayerNorm.bias', 'decoder.bert.encoder.layer.5.crossattention.output.dense.bias', 'decoder.bert.encoder.layer.7.attention.self.query.bias', 'decoder.bert.encoder.layer.3.intermediate.dense.bias', 'decoder.bert.encoder.layer.2.intermediate.dense.bias', 'decoder.bert.encoder.layer.8.crossattention.self.value.bias', 'decoder.bert.encoder.layer.5.intermediate.dense.weight', 'decoder.bert.encoder.layer.6.crossattention.self.query.bias', 'decoder.bert.encoder.layer.2.attention.output.dense.weight', 'decoder.bert.encoder.layer.8.crossattention.output.LayerNorm.bias', 'decoder.bert.encoder.layer.2.crossattention.output.LayerNorm.weight', 'decoder.bert.encoder.layer.11.attention.self.value.weight', 'decoder.bert.encoder.layer.10.attention.self.query.bias', 'decoder.bert.encoder.layer.9.crossattention.self.key.bias', 'decoder.bert.encoder.layer.8.attention.self.key.bias', 'decoder.bert.encoder.layer.7.attention.self.query.weight', 'decoder.bert.encoder.layer.10.crossattention.self.key.bias', 'decoder.bert.encoder.layer.11.intermediate.dense.bias', 'decoder.bert.encoder.layer.10.output.LayerNorm.weight', 'decoder.bert.encoder.layer.4.attention.output.LayerNorm.weight', 'decoder.bert.encoder.layer.8.output.LayerNorm.bias', 'decoder.bert.encoder.layer.10.attention.self.value.weight', 'decoder.bert.encoder.layer.2.crossattention.self.value.bias', 'decoder.bert.encoder.layer.8.crossattention.output.dense.weight', 'decoder.bert.encoder.layer.5.crossattention.self.key.bias', 'decoder.bert.encoder.layer.5.output.LayerNorm.bias', 'decoder.bert.encoder.layer.3.crossattention.output.LayerNorm.weight', 'decoder.bert.encoder.layer.10.crossattention.self.value.weight', 'decoder.bert.encoder.layer.6.attention.output.dense.bias', 'decoder.bert.encoder.layer.5.crossattention.self.query.bias', 'decoder.bert.encoder.layer.8.attention.output.dense.weight', 'decoder.bert.encoder.layer.6.crossattention.self.key.weight', 'decoder.bert.encoder.layer.11.output.dense.bias', 'decoder.bert.encoder.layer.9.attention.self.value.weight', 'decoder.bert.encoder.layer.3.attention.self.key.bias', 'decoder.bert.encoder.layer.8.crossattention.self.query.weight', 'decoder.bert.encoder.layer.8.crossattention.self.value.weight', 'decoder.bert.encoder.layer.8.crossattention.self.query.bias', 'decoder.bert.encoder.layer.4.crossattention.self.value.bias', 'decoder.bert.encoder.layer.10.crossattention.output.dense.bias', 'decoder.bert.encoder.layer.10.output.dense.weight', 'decoder.bert.encoder.layer.3.crossattention.output.dense.weight', 'decoder.bert.encoder.layer.5.crossattention.self.query.weight', 'decoder.bert.encoder.layer.8.attention.self.query.bias', 'decoder.bert.encoder.layer.11.attention.self.query.bias', 'decoder.bert.encoder.layer.2.attention.self.query.weight', 'decoder.bert.encoder.layer.10.attention.self.value.bias', 'decoder.bert.encoder.layer.9.intermediate.dense.bias', 'decoder.bert.encoder.layer.9.attention.output.LayerNorm.weight', 'decoder.bert.encoder.layer.3.attention.output.dense.bias', 'decoder.bert.encoder.layer.11.crossattention.output.LayerNorm.weight', 'decoder.bert.encoder.layer.4.attention.self.value.weight', 'decoder.bert.encoder.layer.10.attention.output.LayerNorm.bias', 'decoder.bert.encoder.layer.7.crossattention.self.value.weight', 'decoder.bert.encoder.layer.11.output.LayerNorm.bias', 'decoder.bert.encoder.layer.8.intermediate.dense.weight']\n",
      "You should probably TRAIN this model on a down-stream task to be able to use it for predictions and inference.\n"
     ]
    },
    {
     "name": "stdout",
     "output_type": "stream",
     "text": [
      "Using CUDA\n",
      "OCR ready\n"
     ]
    }
   ],
   "source": [
    "ocr = OCR(model_path='final/')"
   ]
  },
  {
   "cell_type": "code",
   "execution_count": 92,
   "metadata": {},
   "outputs": [
    {
     "data": {
      "text/plain": [
       "'た た'"
      ]
     },
     "execution_count": 92,
     "metadata": {},
     "output_type": "execute_result"
    }
   ],
   "source": [
    "ocr('train_imgs/1.jpg')"
   ]
  },
  {
   "cell_type": "code",
   "execution_count": 91,
   "metadata": {},
   "outputs": [
    {
     "data": {
      "image/jpeg": "[encoded data removed]",
      "image/png": "[encoded data removed]",
      "text/plain": [
       "<PIL.Image.Image image mode=RGB size=224x224>"
      ]
     },
     "execution_count": 91,
     "metadata": {},
     "output_type": "execute_result"
    }
   ],
   "source": [
    "img = Image.open('train_imgs/100.jpg')\n",
    "img = img.convert('L').convert('RGB')\n",
    "img"
   ]
  },
  {
   "cell_type": "code",
   "execution_count": null,
   "metadata": {},
   "outputs": [],
   "source": []
  },
  {
   "cell_type": "code",
   "execution_count": null,
   "metadata": {},
   "outputs": [],
   "source": []
  },
  {
   "cell_type": "code",
   "execution_count": null,
   "metadata": {},
   "outputs": [],
   "source": []
  },
  {
   "cell_type": "code",
   "execution_count": null,
   "metadata": {},
   "outputs": [],
   "source": []
  },
  {
   "cell_type": "code",
   "execution_count": null,
   "metadata": {},
   "outputs": [],
   "source": []
  },
  {
   "cell_type": "code",
   "execution_count": null,
   "metadata": {},
   "outputs": [],
   "source": []
  },
  {
   "cell_type": "code",
   "execution_count": null,
   "metadata": {},
   "outputs": [],
   "source": []
  },
  {
   "cell_type": "code",
   "execution_count": null,
   "metadata": {},
   "outputs": [],
   "source": []
  },
  {
   "cell_type": "code",
   "execution_count": null,
   "metadata": {},
   "outputs": [],
   "source": []
  },
  {
   "cell_type": "code",
   "execution_count": null,
   "metadata": {},
   "outputs": [],
   "source": []
  }
 ],
 "metadata": {
  "kernelspec": {
   "display_name": "jpdf-to-txt-x2aoK0lp",
   "language": "python",
   "name": "python3"
  },
  "language_info": {
   "codemirror_mode": {
    "name": "ipython",
    "version": 3
   },
   "file_extension": ".py",
   "mimetype": "text/x-python",
   "name": "python",
   "nbconvert_exporter": "python",
   "pygments_lexer": "ipython3",
   "version": "3.10.12"
  }
 },
 "nbformat": 4,
 "nbformat_minor": 2
}
