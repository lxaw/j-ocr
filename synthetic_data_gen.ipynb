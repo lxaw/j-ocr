{
 "cells": [
  {
   "cell_type": "code",
   "execution_count": 4,
   "metadata": {},
   "outputs": [],
   "source": [
    "# while mangaocr used a large text base to generate synthetic images\n",
    "# since meaning is not important here, we can just use a database of all the kanji characters recognized on computers"
   ]
  },
  {
   "cell_type": "code",
   "execution_count": 6,
   "metadata": {},
   "outputs": [],
   "source": [
    "import pandas as pd"
   ]
  },
  {
   "cell_type": "code",
   "execution_count": 56,
   "metadata": {},
   "outputs": [
    {
     "name": "stdout",
     "output_type": "stream",
     "text": [
      "Random Hiragana: ぼ\n",
      "Random Katakana: ベ\n"
     ]
    }
   ],
   "source": [
    "import random\n",
    "\n",
    "def generate_random_hiragana():\n",
    "    hira_start = 0x3041\n",
    "    hira_end = 0x3097\n",
    "\n",
    "    random_hira = chr(random.randint(hira_start,hira_end))\n",
    "\n",
    "    return random_hira\n",
    "\n",
    "def generate_random_katakana():\n",
    "    kata_start = 0x30A1\n",
    "    kata_end = 0x30F7\n",
    "\n",
    "    random_kata = chr(random.randint(kata_start,kata_end))\n",
    "    return random_kata\n",
    "\n",
    "# Example usage:\n",
    "random_hiragana = generate_random_hiragana()\n",
    "random_katakana = generate_random_katakana()\n",
    "\n",
    "print(\"Random Hiragana:\", random_hiragana)\n",
    "print(\"Random Katakana:\", random_katakana)\n"
   ]
  },
  {
   "cell_type": "code",
   "execution_count": null,
   "metadata": {},
   "outputs": [],
   "source": []
  },
  {
   "cell_type": "code",
   "execution_count": 41,
   "metadata": {},
   "outputs": [
    {
     "name": "stdout",
     "output_type": "stream",
     "text": [
      "Random Kanji:  哏\n"
     ]
    }
   ],
   "source": [
    "import random\n",
    "\n",
    "def generate_random_kanji():\n",
    "    # Unicode range for Kanji characters\n",
    "    kanji_start = 0x4e00\n",
    "    kanji_end = 0x9fff\n",
    "\n",
    "    # Generate a random Kanji character\n",
    "    random_kanji = chr(random.randint(kanji_start, kanji_end))\n",
    "\n",
    "    return random_kanji\n",
    "\n",
    "# Example usage\n",
    "random_kanji = generate_random_kanji()\n",
    "print(\"Random Kanji: \", random_kanji)\n"
   ]
  },
  {
   "cell_type": "code",
   "execution_count": 43,
   "metadata": {},
   "outputs": [],
   "source": [
    "import numpy as np\n",
    "\n",
    "def generate_gaussian_integers(mean, variance, size):\n",
    "    # Generate numbers with a Gaussian distribution\n",
    "    gaussian_numbers = np.random.normal(mean, np.sqrt(variance), size)\n",
    "\n",
    "    # Round the numbers to the nearest integer\n",
    "    gaussian_integers = np.round(gaussian_numbers).astype(int)\n",
    "\n",
    "    return gaussian_integers"
   ]
  },
  {
   "cell_type": "code",
   "execution_count": 58,
   "metadata": {},
   "outputs": [],
   "source": [
    "def generate_random_str(mean,variance):\n",
    "    str_length = generate_gaussian_integers(mean,variance,1)[0]\n",
    "    str_chars = ''\n",
    "    for _ in range(str_length):\n",
    "        # here kanji will have 0.66 chance of generating, and hira / kata both the remainder / 2\n",
    "        rand_num = random.random()\n",
    "        if rand_num < 0.4:\n",
    "            str_chars += generate_random_kanji()\n",
    "        elif rand_num < 0.8:\n",
    "            str_chars += generate_random_hiragana()\n",
    "        else:\n",
    "            str_chars += generate_random_katakana() \n",
    "    return str_chars"
   ]
  },
  {
   "cell_type": "code",
   "execution_count": 51,
   "metadata": {},
   "outputs": [],
   "source": [
    "num_samples = 50000\n",
    "samples = []\n",
    "for _ in range(num_samples):\n",
    "    samples.append(generate_random_str(5,1))\n",
    "df = pd.DataFrame(samples,columns=['string'])\n",
    "df.to_csv('samples.csv',index=False)"
   ]
  }
 ],
 "metadata": {
  "kernelspec": {
   "display_name": "jpdf-to-txt-yl2GM28u",
   "language": "python",
   "name": "python3"
  },
  "language_info": {
   "codemirror_mode": {
    "name": "ipython",
    "version": 3
   },
   "file_extension": ".py",
   "mimetype": "text/x-python",
   "name": "python",
   "nbconvert_exporter": "python",
   "pygments_lexer": "ipython3",
   "version": "3.10.12"
  }
 },
 "nbformat": 4,
 "nbformat_minor": 2
}
