{
 "cells": [
  {
   "cell_type": "code",
   "execution_count": 9,
   "metadata": {},
   "outputs": [],
   "source": [
    "##########\n",
    "# This file provides the code for generation of testing imgs\n",
    "#\n",
    "import random\n",
    "from PIL import Image, ImageDraw, ImageFont, ImageFilter\n",
    "import re"
   ]
  },
  {
   "cell_type": "code",
   "execution_count": 4,
   "metadata": {},
   "outputs": [],
   "source": [
    "##\n",
    "# Rotate an image\n",
    "def rotate_img(img,ang):\n",
    "    img = img.rotate(ang)\n",
    "    return img"
   ]
  },
  {
   "cell_type": "code",
   "execution_count": 6,
   "metadata": {},
   "outputs": [],
   "source": [
    "##\n",
    "# Apply gaussian blur to img\n",
    "def blur_img(img,mean_radius,std_dev_radius):\n",
    "    blur_radius = max(0, min(1, random.gauss(mean_radius, std_dev_radius)))\n",
    "    img = img.filter(ImageFilter.GaussianBlur(radius=blur_radius))\n",
    "    return img"
   ]
  },
  {
   "cell_type": "code",
   "execution_count": 7,
   "metadata": {},
   "outputs": [],
   "source": [
    "def shear_img(img,img_size,mean_shear,std_dev_shear):\n",
    "    shear_amount = random.gauss(mean_shear, std_dev_shear)\n",
    "    img = img.transform(\n",
    "        img_size,\n",
    "        Image.AFFINE,\n",
    "        (1,shear_amount,0,0,1,0),\n",
    "        resample=Image.BICUBIC\n",
    "    )"
   ]
  },
  {
   "cell_type": "code",
   "execution_count": 8,
   "metadata": {},
   "outputs": [],
   "source": [
    "def generate_random_color():\n",
    "    # Generate random RGB values excluding black\n",
    "    red = random.randint(20, 255)\n",
    "    green = random.randint(20, 255)\n",
    "    blue = random.randint(20, 255)\n",
    "\n",
    "    # Format the RGB values into a tuple\n",
    "    color_tuple = (red, green, blue)\n",
    "\n",
    "    return color_tuple"
   ]
  },
  {
   "cell_type": "code",
   "execution_count": null,
   "metadata": {},
   "outputs": [],
   "source": [
    "def generate_random_hiragana(n):\n",
    "    hiragana_pattern = re.compile('[\\u3041-\\u3096]')\n",
    "    return ''.join([random.choice(hiragana_pattern.findall(chr(random.randint(0x3041, 0x3096)))) for _ in range(n)])"
   ]
  },
  {
   "cell_type": "code",
   "execution_count": 1,
   "metadata": {},
   "outputs": [],
   "source": [
    "##\n",
    "# generate an img file based on text\n",
    "# args: \n",
    "# text: str\n",
    "# file_name: str\n",
    "# img_size: 2-tuple\n",
    "# font_path: str\n",
    "# font_size: int\n",
    "def gen_img(text,file_name,img_size,font_path,font_size,add_furi=False):\n",
    "    \n",
    "    font = ImageFont.truetype(font_path,font_size)\n",
    "    \n",
    "    furigana_font_size = font_size//2\n",
    "\n",
    "    # init position for text\n",
    "    initial_position = ((img_size[0] - font_size) // 2, (img_size[1] - len(text) * font_size) // 2 - 15)\n",
    "\n",
    "    # randomize position by slightly adding\n",
    "    # todo\n",
    "    position = initial_position\n",
    "\n",
    "    # create the img\n",
    "    color = \"white\"\n",
    "\n",
    "    img = Image.new(\"RGB\",img_size,color)\n",
    "\n",
    "    draw = ImageDraw.Draw(img)\n",
    "\n",
    "    # draw the text\n",
    "    draw.text(position,text,font=font,fill='black')\n",
    "\n",
    "    # apply furigana randomly\n",
    "    if add_furi:\n",
    "        # each char has about 2 furigana\n",
    "        furigana_txt = generate_random_hiragana(2)\n",
    "        furigana_x,furigana_y = position\n",
    "        furigana_x += font_size\n",
    "        furigana_y += 5 # to do: remove magic number\n",
    "        for furigana_char in furigana_txt:\n",
    "            draw.text((furigana_x,furigana_y),furigana_char,font=font,fill='black')\n",
    "            furigana_y += furigana_font_size\n",
    "\n",
    "    # save img\n",
    "    img.save(file_name)\n",
    "    "
   ]
  },
  {
   "cell_type": "code",
   "execution_count": null,
   "metadata": {},
   "outputs": [],
   "source": [
    "# create the images for the training data\n",
    "test_txt = \"明\""
   ]
  }
 ],
 "metadata": {
  "kernelspec": {
   "display_name": "j-ocr-zJwh3djE",
   "language": "python",
   "name": "python3"
  },
  "language_info": {
   "codemirror_mode": {
    "name": "ipython",
    "version": 3
   },
   "file_extension": ".py",
   "mimetype": "text/x-python",
   "name": "python",
   "nbconvert_exporter": "python",
   "pygments_lexer": "ipython3",
   "version": "3.12.0"
  }
 },
 "nbformat": 4,
 "nbformat_minor": 2
}
