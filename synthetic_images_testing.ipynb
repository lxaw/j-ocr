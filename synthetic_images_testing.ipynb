{
 "cells": [
  {
   "cell_type": "code",
   "execution_count": 1,
   "metadata": {},
   "outputs": [],
   "source": [
    "import pandas as pd"
   ]
  },
  {
   "cell_type": "code",
   "execution_count": 2,
   "metadata": {},
   "outputs": [],
   "source": [
    "df = pd.read_csv('samples.csv')"
   ]
  },
  {
   "cell_type": "code",
   "execution_count": 3,
   "metadata": {},
   "outputs": [],
   "source": [
    "from PIL import Image,ImageDraw, ImageFont"
   ]
  },
  {
   "cell_type": "code",
   "execution_count": 4,
   "metadata": {},
   "outputs": [
    {
     "data": {
      "text/plain": [
       "'螝楻鑐旇凱鯓'"
      ]
     },
     "execution_count": 4,
     "metadata": {},
     "output_type": "execute_result"
    }
   ],
   "source": [
    "test_txt = df.iloc[41989].item().split('、')[0]\n",
    "test_txt"
   ]
  },
  {
   "cell_type": "code",
   "execution_count": 6,
   "metadata": {},
   "outputs": [
    {
     "ename": "OSError",
     "evalue": "cannot open resource",
     "output_type": "error",
     "traceback": [
      "\u001b[0;31m---------------------------------------------------------------------------\u001b[0m",
      "\u001b[0;31mOSError\u001b[0m                                   Traceback (most recent call last)",
      "\u001b[1;32m/home/whalenlex/Desktop/jpdf-to-txt/synthetic_images_testing.ipynb Cell 5\u001b[0m line \u001b[0;36m6\n\u001b[1;32m      <a href='vscode-notebook-cell://ssh-remote%2B10.173.98.203/home/whalenlex/Desktop/jpdf-to-txt/synthetic_images_testing.ipynb#W4sdnNjb2RlLXJlbW90ZQ%3D%3D?line=2'>3</a>\u001b[0m \u001b[39m# Specify the font and size\u001b[39;00m\n\u001b[1;32m      <a href='vscode-notebook-cell://ssh-remote%2B10.173.98.203/home/whalenlex/Desktop/jpdf-to-txt/synthetic_images_testing.ipynb#W4sdnNjb2RlLXJlbW90ZQ%3D%3D?line=3'>4</a>\u001b[0m \u001b[39m# font_path = \"fonts/Noto_Serif_JP/NotoSerifJP-Black.otf\"  # Replace with the path to your TTF font file\u001b[39;00m\n\u001b[1;32m      <a href='vscode-notebook-cell://ssh-remote%2B10.173.98.203/home/whalenlex/Desktop/jpdf-to-txt/synthetic_images_testing.ipynb#W4sdnNjb2RlLXJlbW90ZQ%3D%3D?line=4'>5</a>\u001b[0m font_size \u001b[39m=\u001b[39m \u001b[39m16\u001b[39m\n\u001b[0;32m----> <a href='vscode-notebook-cell://ssh-remote%2B10.173.98.203/home/whalenlex/Desktop/jpdf-to-txt/synthetic_images_testing.ipynb#W4sdnNjb2RlLXJlbW90ZQ%3D%3D?line=5'>6</a>\u001b[0m font \u001b[39m=\u001b[39m ImageFont\u001b[39m.\u001b[39;49mtruetype(\u001b[39m'\u001b[39;49m\u001b[39mTakao Mincho\u001b[39;49m\u001b[39m'\u001b[39;49m, font_size)\n\u001b[1;32m      <a href='vscode-notebook-cell://ssh-remote%2B10.173.98.203/home/whalenlex/Desktop/jpdf-to-txt/synthetic_images_testing.ipynb#W4sdnNjb2RlLXJlbW90ZQ%3D%3D?line=7'>8</a>\u001b[0m furigana_font \u001b[39m=\u001b[39m \u001b[39m8\u001b[39m\n\u001b[1;32m      <a href='vscode-notebook-cell://ssh-remote%2B10.173.98.203/home/whalenlex/Desktop/jpdf-to-txt/synthetic_images_testing.ipynb#W4sdnNjb2RlLXJlbW90ZQ%3D%3D?line=8'>9</a>\u001b[0m furigana_font \u001b[39m=\u001b[39m ImageFont\u001b[39m.\u001b[39mtruetype(\u001b[39m'\u001b[39m\u001b[39mTakao Mincho\u001b[39m\u001b[39m'\u001b[39m,furigana_font)\n",
      "File \u001b[0;32m~/.local/share/virtualenvs/jpdf-to-txt-x2aoK0lp/lib/python3.10/site-packages/PIL/ImageFont.py:797\u001b[0m, in \u001b[0;36mtruetype\u001b[0;34m(font, size, index, encoding, layout_engine)\u001b[0m\n\u001b[1;32m    794\u001b[0m     \u001b[39mreturn\u001b[39;00m FreeTypeFont(font, size, index, encoding, layout_engine)\n\u001b[1;32m    796\u001b[0m \u001b[39mtry\u001b[39;00m:\n\u001b[0;32m--> 797\u001b[0m     \u001b[39mreturn\u001b[39;00m freetype(font)\n\u001b[1;32m    798\u001b[0m \u001b[39mexcept\u001b[39;00m \u001b[39mOSError\u001b[39;00m:\n\u001b[1;32m    799\u001b[0m     \u001b[39mif\u001b[39;00m \u001b[39mnot\u001b[39;00m is_path(font):\n",
      "File \u001b[0;32m~/.local/share/virtualenvs/jpdf-to-txt-x2aoK0lp/lib/python3.10/site-packages/PIL/ImageFont.py:794\u001b[0m, in \u001b[0;36mtruetype.<locals>.freetype\u001b[0;34m(font)\u001b[0m\n\u001b[1;32m    793\u001b[0m \u001b[39mdef\u001b[39;00m \u001b[39mfreetype\u001b[39m(font):\n\u001b[0;32m--> 794\u001b[0m     \u001b[39mreturn\u001b[39;00m FreeTypeFont(font, size, index, encoding, layout_engine)\n",
      "File \u001b[0;32m~/.local/share/virtualenvs/jpdf-to-txt-x2aoK0lp/lib/python3.10/site-packages/PIL/ImageFont.py:226\u001b[0m, in \u001b[0;36mFreeTypeFont.__init__\u001b[0;34m(self, font, size, index, encoding, layout_engine)\u001b[0m\n\u001b[1;32m    224\u001b[0m                 load_from_bytes(f)\n\u001b[1;32m    225\u001b[0m             \u001b[39mreturn\u001b[39;00m\n\u001b[0;32m--> 226\u001b[0m     \u001b[39mself\u001b[39m\u001b[39m.\u001b[39mfont \u001b[39m=\u001b[39m core\u001b[39m.\u001b[39;49mgetfont(\n\u001b[1;32m    227\u001b[0m         font, size, index, encoding, layout_engine\u001b[39m=\u001b[39;49mlayout_engine\n\u001b[1;32m    228\u001b[0m     )\n\u001b[1;32m    229\u001b[0m \u001b[39melse\u001b[39;00m:\n\u001b[1;32m    230\u001b[0m     load_from_bytes(font)\n",
      "\u001b[0;31mOSError\u001b[0m: cannot open resource"
     ]
    }
   ],
   "source": [
    "from PIL import Image, ImageDraw, ImageFont\n",
    "\n",
    "# Specify the font and size\n",
    "font_path = \"fonts/Noto_Serif_JP/NotoSerifJP-Black.otf\"  # Replace with the path to your TTF font file\n",
    "font_size = 16\n",
    "font = ImageFont.truetype(font_path, font_size)\n",
    "\n",
    "furigana_font = 8\n",
    "furigana_font = ImageFont.truetype(font_path,furigana_font)\n",
    "\n",
    "\n",
    "\n",
    "# Specify the text and position\n",
    "text = test_txt\n",
    "text_position = (10, 10)\n",
    "\n",
    "\n",
    "# Draw the text on the image vertically\n",
    "PADDING = 2\n",
    "# get size of box\n",
    "char_height = font.getbbox(text[0])[3] - font.getbbox(text[0])[1]\n",
    "char_width = font.getbbox(text[0])[2]\n",
    "char_size = PADDING\n",
    "if char_width > char_height:\n",
    "    char_size += char_width\n",
    "else:\n",
    "    char_size += char_height\n",
    "\n",
    "# Calculate the total height of the vertical text\n",
    "total_height = sum(char_size for char in text)\n",
    "\n",
    "# Create a new image with a white background\n",
    "image = Image.new(\"RGB\", (50,total_height + font_size), \"white\")\n",
    "\n",
    "# Create a draw object\n",
    "draw = ImageDraw.Draw(image)\n",
    "\n",
    "furigana_txt = 'ふり'\n",
    "for char in text:\n",
    "    draw.text(text_position, char, font=font, fill=\"black\")\n",
    "    # random furigana\n",
    "    furigana_position = text_position\n",
    "    furigana_x,furigana_y = text_position\n",
    "    furigana_x+=char_size\n",
    "    for furigana_char in furigana_txt:\n",
    "        draw.text((furigana_x,furigana_y),furigana_char,font=furigana_font,fill='black')\n",
    "        furigana_y += char_size/2\n",
    "    text_position = (text_position[0], text_position[1] + char_size)  # Move down for each character\n",
    "\n",
    "# Save or display the image\n",
    "image.save(\"test_imgs/test.jpg\")\n",
    "image.show()\n"
   ]
  },
  {
   "cell_type": "code",
   "execution_count": 10,
   "metadata": {},
   "outputs": [],
   "source": [
    "def create_img_from_sentence(sentence,font,background_color,out_file_name):\n",
    "    text_position = (10, 10)\n",
    "    # Draw the text on the image vertically\n",
    "    PADDING = 2\n",
    "    # get size of box\n",
    "    char_height = font.getbbox(sentence[0])[3] - font.getbbox(sentence[0])[1]\n",
    "    char_width = font.getbbox(sentence[0])[2]\n",
    "    char_size = PADDING\n",
    "    if char_width > char_height:\n",
    "        char_size += char_width\n",
    "    else:\n",
    "        char_size += char_height\n",
    "\n",
    "    # Calculate the total height of the vertical text\n",
    "    total_height = sum(char_size for char in sentence)\n",
    "\n",
    "    # Create a new image with a white background\n",
    "    image = Image.new(\"RGB\", (50,total_height + font_size), background_color)\n",
    "\n",
    "    # Create a draw object\n",
    "    draw = ImageDraw.Draw(image)\n",
    "\n",
    "    for char in sentence:\n",
    "        draw.text(text_position, char, font=font, fill=\"black\")\n",
    "        text_position = (text_position[0], text_position[1] + char_size)  # Move down for each character\n",
    "\n",
    "    # Save or display the image\n",
    "    image.save(out_file_name)\n"
   ]
  },
  {
   "cell_type": "code",
   "execution_count": 11,
   "metadata": {},
   "outputs": [],
   "source": [
    "# Specify the font and size\n",
    "font_path = \"fonts/Noto_Serif_JP/NotoSerifJP-Black.otf\"  # Replace with the path to your TTF font file\n",
    "font_size = 16\n",
    "font = ImageFont.truetype(font_path, font_size)\n",
    "\n",
    "create_img_from_sentence(df.iloc[100].item(),font,(230,241,100),'test_imgs/test.png')"
   ]
  },
  {
   "cell_type": "code",
   "execution_count": 12,
   "metadata": {},
   "outputs": [
    {
     "data": {
      "text/plain": [
       "['私の幼少期は',\n",
       " '自分自身が周囲から受けた直截の経験から「世界は根本的に間違っており',\n",
       " '人生は苦痛と悲しみに満ち',\n",
       " '神などむろん存在するはずもなく',\n",
       " '人間は悪に支配されている」という見解を大原則として生き抜いてきたものだったのだが——その少なからぬ部分は',\n",
       " 'この田舎町に生き合わせた',\n",
       " 'それも同年代を中心とする他者との関係のなかで形成されてきたように思う。']"
      ]
     },
     "execution_count": 12,
     "metadata": {},
     "output_type": "execute_result"
    }
   ],
   "source": [
    "# need to shorten these\n",
    "test_txt = df.iloc[100].item()\n",
    "test_txt.split('、')"
   ]
  },
  {
   "cell_type": "code",
   "execution_count": 13,
   "metadata": {},
   "outputs": [],
   "source": [
    "create_img_from_sentence(test_txt.split('、')[0],font,(102,60,230),'test_imgs/test.jpg')"
   ]
  },
  {
   "cell_type": "code",
   "execution_count": 14,
   "metadata": {},
   "outputs": [
    {
     "name": "stdout",
     "output_type": "stream",
     "text": [
      "Random Hue: 0.42959615008549734\n",
      "RGB Tuple: (0, 255, 147)\n"
     ]
    }
   ],
   "source": [
    "import colorsys\n",
    "import random\n",
    "\n",
    "# Generate a random hue value between 60.0/360.0 (off-yellow) and 1.0 (pure white)\n",
    "random_hue = random.uniform(60.0 / 360.0, 1.0)\n",
    "\n",
    "# Convert the hue value to an RGB tuple\n",
    "rgb_tuple = colorsys.hsv_to_rgb(random_hue, 1.0, 1.0)\n",
    "\n",
    "# Convert RGB values from the range [0.0, 1.0] to [0, 255]\n",
    "rgb_tuple = tuple(int(val * 255) for val in rgb_tuple)\n",
    "\n",
    "print(\"Random Hue:\", random_hue)\n",
    "print(\"RGB Tuple:\", rgb_tuple)\n"
   ]
  },
  {
   "cell_type": "code",
   "execution_count": 15,
   "metadata": {},
   "outputs": [],
   "source": [
    "create_img_from_sentence(test_txt.split('、')[0],font,rgb_tuple,'test_imgs/test.jpg')"
   ]
  },
  {
   "cell_type": "code",
   "execution_count": 16,
   "metadata": {},
   "outputs": [
    {
     "name": "stdout",
     "output_type": "stream",
     "text": [
      "Generated Blur Radius: 0.7063373713664707\n"
     ]
    }
   ],
   "source": [
    "from PIL import Image, ImageFilter\n",
    "import random\n",
    "\n",
    "# Open an image file\n",
    "image_path = \"test_imgs/test.jpg\"  # Replace with the path to your image file\n",
    "image = Image.open(image_path)\n",
    "\n",
    "# Generate a blur_radius value from a normal distribution between 0 and 1\n",
    "mean_radius = 0.5\n",
    "std_dev_radius = 0.2  # You can adjust this value based on the desired spread of the distribution\n",
    "blur_radius = max(0, min(1, random.gauss(mean_radius, std_dev_radius)))\n",
    "\n",
    "# Apply a Gaussian blur filter with the generated radius\n",
    "blurred_image = image.filter(ImageFilter.GaussianBlur(radius=blur_radius))\n",
    "\n",
    "# Save or display the blurred image\n",
    "blurred_image.save(\"test_imgs/blurred_image.jpg\")\n",
    "blurred_image.show()\n",
    "\n",
    "print(\"Generated Blur Radius:\", blur_radius)\n"
   ]
  },
  {
   "cell_type": "code",
   "execution_count": 17,
   "metadata": {},
   "outputs": [],
   "source": [
    "def generate_img_with_random_furi(sentence,file_name):\n",
    "    # Specify the font and size\n",
    "    font_path = \"fonts/Noto_Serif_JP/NotoSerifJP-Black.otf\"  # Replace with the path to your TTF font file\n",
    "    font_size = 16\n",
    "    font = ImageFont.truetype(font_path, font_size)\n",
    "\n",
    "    furigana_font = 8\n",
    "    furigana_font = ImageFont.truetype(font_path,furigana_font)\n",
    "\n",
    "    # Specify the text and position\n",
    "    text = test_txt\n",
    "    text_position = (10, 10)\n",
    "\n",
    "\n",
    "    # Draw the text on the image vertically\n",
    "    PADDING = 2\n",
    "    # get size of box\n",
    "    char_height = font.getbbox(text[0])[3] - font.getbbox(text[0])[1]\n",
    "    char_width = font.getbbox(text[0])[2]\n",
    "    char_size = PADDING\n",
    "    if char_width > char_height:\n",
    "        char_size += char_width\n",
    "    else:\n",
    "        char_size += char_height\n",
    "\n",
    "    # Calculate the total height of the vertical text\n",
    "    total_height = sum(char_size for char in text)\n",
    "\n",
    "    # Create a new image with a white background\n",
    "    image = Image.new(\"RGB\", (50,total_height + font_size), \"white\")\n",
    "\n",
    "    # Create a draw object\n",
    "    draw = ImageDraw.Draw(image)\n",
    "\n",
    "    furigana_txt = 'ぷり'\n",
    "    for char in text:\n",
    "        draw.text(text_position, char, font=font, fill=\"black\")\n",
    "        # random furigana\n",
    "        random\n",
    "        if random.random() < 0.1:\n",
    "\n",
    "            furigana_position = text_position\n",
    "            furigana_x,furigana_y = text_position\n",
    "            furigana_x+=char_size\n",
    "            for furigana_char in furigana_txt:\n",
    "                draw.text((furigana_x,furigana_y),furigana_char,font=furigana_font,fill='black')\n",
    "                furigana_y += char_size/2\n",
    "        text_position = (text_position[0], text_position[1] + char_size)  # Move down for each character\n",
    "\n",
    "    # Save or display the image\n",
    "    image.save(\"test_imgs/test.jpg\")\n",
    "    image.show()\n"
   ]
  },
  {
   "cell_type": "code",
   "execution_count": 18,
   "metadata": {},
   "outputs": [],
   "source": [
    "test_txt = '自分自身が周囲から受けた直截の経験から'"
   ]
  },
  {
   "cell_type": "code",
   "execution_count": 19,
   "metadata": {},
   "outputs": [],
   "source": [
    "generate_img_with_random_furi(test_txt,'test.jpg')"
   ]
  },
  {
   "cell_type": "code",
   "execution_count": 20,
   "metadata": {},
   "outputs": [
    {
     "name": "stdout",
     "output_type": "stream",
     "text": [
      "ゐうょはと\n"
     ]
    }
   ],
   "source": [
    "import re\n",
    "import random\n",
    "\n",
    "def generate_random_hiragana(n):\n",
    "    hiragana_pattern = re.compile('[\\u3041-\\u3096]')\n",
    "    return ''.join([random.choice(hiragana_pattern.findall(chr(random.randint(0x3041, 0x3096)))) for _ in range(n)])\n",
    "\n",
    "# Example: Generate 5 random hiragana characters\n",
    "random_hiragana = generate_random_hiragana(5)\n",
    "print(random_hiragana)\n"
   ]
  },
  {
   "cell_type": "code",
   "execution_count": 21,
   "metadata": {},
   "outputs": [
    {
     "name": "stdout",
     "output_type": "stream",
     "text": [
      "クオョソア\n"
     ]
    }
   ],
   "source": [
    "import re\n",
    "import random\n",
    "\n",
    "def generate_random_katakana(n):\n",
    "    katakana_pattern = re.compile('[\\u30A1-\\u30F6]')\n",
    "    return ''.join([random.choice(katakana_pattern.findall(chr(random.randint(0x30A1, 0x30F6)))) for _ in range(n)])\n",
    "\n",
    "# Example: Generate 5 random katakana characters\n",
    "random_katakana = generate_random_katakana(5)\n",
    "print(random_katakana)\n"
   ]
  },
  {
   "cell_type": "code",
   "execution_count": 29,
   "metadata": {},
   "outputs": [],
   "source": [
    "def generate_img_with_random_furi(sentence,file_name):\n",
    "    # Specify the font and size\n",
    "    font_path = \"fonts/Noto_Serif_JP/NotoSerifJP-Black.otf\"  # Replace with the path to your TTF font file\n",
    "    font_size = 16\n",
    "    font = ImageFont.truetype(font_path, font_size)\n",
    "\n",
    "    furigana_font = 8\n",
    "    furigana_font = ImageFont.truetype(font_path,furigana_font)\n",
    "\n",
    "    # Specify the text and position\n",
    "    text = test_txt\n",
    "    text_position = (10, 10)\n",
    "\n",
    "\n",
    "    # Draw the text on the image vertically\n",
    "    PADDING = 2\n",
    "    # get size of box\n",
    "    char_height = font.getbbox(text[0])[3] - font.getbbox(text[0])[1]\n",
    "    char_width = font.getbbox(text[0])[2]\n",
    "    char_size = PADDING\n",
    "    if char_width > char_height:\n",
    "        char_size += char_width\n",
    "    else:\n",
    "        char_size += char_height\n",
    "\n",
    "    # Calculate the total height of the vertical text\n",
    "    total_height = sum(char_size for char in text)\n",
    "\n",
    "    # Create a new image with a white background\n",
    "    image = Image.new(\"RGB\", (50,total_height + font_size), \"white\")\n",
    "\n",
    "    # Create a draw object\n",
    "    draw = ImageDraw.Draw(image)\n",
    "\n",
    "    for char in text:\n",
    "        draw.text(text_position, char, font=font, fill=\"black\")\n",
    "        # random furigana\n",
    "        random\n",
    "        if random.random() < 0.2:\n",
    "\n",
    "            furigana_txt = generate_random_hiragana(2)\n",
    "            furigana_x,furigana_y = text_position\n",
    "            furigana_y += 0.1\n",
    "            furigana_x+=char_size\n",
    "            for furigana_char in furigana_txt:\n",
    "                draw.text((furigana_x,furigana_y),furigana_char,font=furigana_font,fill='black')\n",
    "                furigana_y += char_size/2\n",
    "        text_position = (text_position[0], text_position[1] + char_size)  # Move down for each character\n",
    "\n",
    "    # Save or display the image\n",
    "    image.save(\"test_imgs/test.jpg\")\n",
    "    image.show()\n"
   ]
  },
  {
   "cell_type": "code",
   "execution_count": 30,
   "metadata": {},
   "outputs": [],
   "source": [
    "generate_img_with_random_furi(test_txt,'test.jpg')"
   ]
  },
  {
   "cell_type": "code",
   "execution_count": null,
   "metadata": {},
   "outputs": [],
   "source": []
  }
 ],
 "metadata": {
  "kernelspec": {
   "display_name": "jpdf-to-txt-yl2GM28u",
   "language": "python",
   "name": "python3"
  },
  "language_info": {
   "codemirror_mode": {
    "name": "ipython",
    "version": 3
   },
   "file_extension": ".py",
   "mimetype": "text/x-python",
   "name": "python",
   "nbconvert_exporter": "python",
   "pygments_lexer": "ipython3",
   "version": "3.10.12"
  }
 },
 "nbformat": 4,
 "nbformat_minor": 2
}
