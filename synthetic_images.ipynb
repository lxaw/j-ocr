{
 "cells": [
  {
   "cell_type": "code",
   "execution_count": 1,
   "metadata": {},
   "outputs": [],
   "source": [
    "import pandas as pd\n",
    "from PIL import Image,ImageDraw, ImageFont,ImageFilter\n",
    "import re\n",
    "import random\n",
    "import colorsys"
   ]
  },
  {
   "cell_type": "code",
   "execution_count": 2,
   "metadata": {},
   "outputs": [],
   "source": [
    "df = pd.read_csv('sentences.csv')"
   ]
  },
  {
   "cell_type": "code",
   "execution_count": 3,
   "metadata": {},
   "outputs": [],
   "source": [
    "def generate_random_hiragana(n):\n",
    "    hiragana_pattern = re.compile('[\\u3041-\\u3096]')\n",
    "    return ''.join([random.choice(hiragana_pattern.findall(chr(random.randint(0x3041, 0x3096)))) for _ in range(n)])"
   ]
  },
  {
   "cell_type": "code",
   "execution_count": 4,
   "metadata": {},
   "outputs": [],
   "source": [
    "\n",
    "def generate_random_color():\n",
    "    # Generate random RGB values excluding black\n",
    "    red = random.randint(20, 255)\n",
    "    green = random.randint(20, 255)\n",
    "    blue = random.randint(20, 255)\n",
    "\n",
    "    # Format the RGB values into a tuple\n",
    "    color_tuple = (red, green, blue)\n",
    "\n",
    "    return color_tuple\n"
   ]
  },
  {
   "cell_type": "code",
   "execution_count": 5,
   "metadata": {},
   "outputs": [],
   "source": [
    "def generate_img_with_random_furi(sentence,file_name):\n",
    "    # Specify the font and size\n",
    "    font_path = \"fonts/NotoSerifJP/NotoSerifJP-Black.otf\"  # Replace with the path to your TTF font file\n",
    "    font_size = 16\n",
    "    font = ImageFont.truetype(font_path, font_size)\n",
    "\n",
    "    furigana_font = 8\n",
    "    furigana_font = ImageFont.truetype(font_path,furigana_font)\n",
    "\n",
    "    # Specify the sentence and position\n",
    "    sentence_position = (10, 10)\n",
    "\n",
    "\n",
    "    # Draw the sentence on the image vertically\n",
    "    PADDING = 2\n",
    "    # get size of box\n",
    "    char_height = font.getbbox(sentence[0])[3] - font.getbbox(sentence[0])[1]\n",
    "    char_width = font.getbbox(sentence[0])[2]\n",
    "    char_size = PADDING\n",
    "    if char_width > char_height:\n",
    "        char_size += char_width\n",
    "    else:\n",
    "        char_size += char_height\n",
    "\n",
    "    # Calculate the total height of the vertical sentence\n",
    "    total_height = sum(char_size for char in sentence)\n",
    "\n",
    "    if random.random() < 0.3:\n",
    "        background_color = generate_random_color()\n",
    "    else:\n",
    "        background_color = 'white'\n",
    "\n",
    "    image = Image.new(\"RGB\", (50,total_height + font_size),background_color)\n",
    "\n",
    "    # Create a draw object\n",
    "    draw = ImageDraw.Draw(image)\n",
    "\n",
    "    for char in sentence:\n",
    "        draw.text(sentence_position, char, font=font, fill=\"black\")\n",
    "        # random furigana\n",
    "        if random.random() < 0.2:\n",
    "\n",
    "            furigana_txt = generate_random_hiragana(2)\n",
    "            furigana_x,furigana_y = sentence_position\n",
    "            # trying to make the furigana look better\n",
    "            furigana_y += 0.1\n",
    "            furigana_x -=2\n",
    "            furigana_x+=char_size\n",
    "            for furigana_char in furigana_txt:\n",
    "                draw.text((furigana_x,furigana_y),furigana_char,font=furigana_font,fill='black')\n",
    "                furigana_y += char_size/2\n",
    "        sentence_position = (sentence_position[0], sentence_position[1] + char_size)  # Move down for each character\n",
    "    \n",
    "    # randomly blur\n",
    "    if random.random() < 0.3:\n",
    "        # add blur\n",
    "        # Generate a blur_radius value from a normal distribution between 0 and 1\n",
    "        mean_radius = 0.5\n",
    "        std_dev_radius = 0.2  # You can adjust this value based on the desired spread of the distribution\n",
    "        blur_radius = max(0, min(1, random.gauss(mean_radius, std_dev_radius)))\n",
    "\n",
    "        # # Apply a Gaussian blur filter with the generated radius\n",
    "        image = image.filter(ImageFilter.GaussianBlur(radius=blur_radius))\n",
    "\n",
    "    # randomly shear\n",
    "    if random.random() < 0.3:\n",
    "        # Generate a shear amount from a normal distribution\n",
    "        mean_shear = 0.0\n",
    "        std_dev_shear = 0.1 # You can adjust this value based on the desired spread of the distribution\n",
    "        shear_amount = random.gauss(mean_shear, std_dev_shear)\n",
    "        # Apply a shear transformation to the image\n",
    "        image= image.transform(\n",
    "            image.size,\n",
    "            Image.AFFINE,\n",
    "            (1, shear_amount, 0, 0, 1, 0),  # Shear along the x-axis\n",
    "            resample=Image.BICUBIC\n",
    "        )\n",
    "\n",
    "\n",
    "    # Save or display the image\n",
    "    image.save(file_name)\n"
   ]
  },
  {
   "cell_type": "code",
   "execution_count": 6,
   "metadata": {},
   "outputs": [],
   "source": [
    "import numpy as np\n",
    "\n",
    "def generate_string_with_gaussian_chunks(base_string, mean_length=6, std_dev=1):\n",
    "    chunks = []\n",
    "    string_length = len(base_string)\n",
    "    chunk_lengths = np.random.normal(loc=mean_length, scale=std_dev, size=string_length).astype(int)\n",
    "\n",
    "    length_counter = 0\n",
    "    counter = 0\n",
    "    for l in chunk_lengths:\n",
    "        length_counter += l\n",
    "        counter += 1\n",
    "        if l >= string_length:\n",
    "            break\n",
    "\n",
    "    start = 0\n",
    "    for i in range(counter):\n",
    "        length = max(1, chunk_lengths[i])  # Ensure the length is at least 1\n",
    "        chunk = base_string[start:start + chunk_lengths[i]]\n",
    "        chunks.append(chunk)\n",
    "        start += length\n",
    "        if start >= string_length:\n",
    "            break\n",
    "    return chunks\n",
    "\n",
    "# Example usage\n",
    "# input_string = \"abcdefghijklmnopqrstuvwxyz\"\n",
    "# generate_string_with_gaussian_chunks(input_string)\n"
   ]
  },
  {
   "cell_type": "code",
   "execution_count": 12,
   "metadata": {},
   "outputs": [
    {
     "data": {
      "text/plain": [
       "['午後から雨', 'が心配だっ', 'たので遠出', 'はせず、『', 'ふれあいロ', 'ード』を走', 'って来ました', '！']"
      ]
     },
     "execution_count": 12,
     "metadata": {},
     "output_type": "execute_result"
    }
   ],
   "source": [
    "chunks = generate_string_with_gaussian_chunks(df['text'].iloc[0])\n",
    "chunks"
   ]
  },
  {
   "cell_type": "code",
   "execution_count": 8,
   "metadata": {},
   "outputs": [],
   "source": [
    "text = df['text']"
   ]
  },
  {
   "cell_type": "code",
   "execution_count": 9,
   "metadata": {},
   "outputs": [],
   "source": [
    "counter = 0\n",
    "limit = 100000\n",
    "# the file name is just the index of the label\n",
    "dict_training = {'labels':[]}\n",
    "\n",
    "limit_broken = False\n",
    "for sentence in text:\n",
    "    chunks = generate_string_with_gaussian_chunks(sentence)\n",
    "    for chunk in chunks:\n",
    "        file_name = f'{counter}.jpg'\n",
    "        generate_img_with_random_furi(chunk,f'./train_imgs/{file_name}')\n",
    "        dict_training['labels'].append(chunk)\n",
    "        counter += 1\n",
    "        if counter == limit:\n",
    "            limit_broken = True\n",
    "            break\n",
    "    if limit_broken:\n",
    "        break\n"
   ]
  },
  {
   "cell_type": "code",
   "execution_count": 10,
   "metadata": {},
   "outputs": [],
   "source": [
    "df = pd.DataFrame(dict_training)\n",
    "\n",
    "# Specify the CSV file path\n",
    "csv_file_path = 'training_labels.csv'\n",
    "\n",
    "# Save the DataFrame to CSV\n",
    "df.to_csv(csv_file_path, index=False)\n"
   ]
  },
  {
   "cell_type": "code",
   "execution_count": null,
   "metadata": {},
   "outputs": [],
   "source": []
  },
  {
   "cell_type": "code",
   "execution_count": null,
   "metadata": {},
   "outputs": [],
   "source": []
  }
 ],
 "metadata": {
  "kernelspec": {
   "display_name": "jpdf-to-txt-yl2GM28u",
   "language": "python",
   "name": "python3"
  },
  "language_info": {
   "codemirror_mode": {
    "name": "ipython",
    "version": 3
   },
   "file_extension": ".py",
   "mimetype": "text/x-python",
   "name": "python",
   "nbconvert_exporter": "python",
   "pygments_lexer": "ipython3",
   "version": "3.10.12"
  }
 },
 "nbformat": 4,
 "nbformat_minor": 2
}
